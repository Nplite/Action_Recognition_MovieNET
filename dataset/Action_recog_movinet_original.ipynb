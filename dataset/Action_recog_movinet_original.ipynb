{
  "cells": [
    {
      "cell_type": "markdown",
      "metadata": {
        "id": "toCy3v03Dwx7"
      },
      "source": [
        "##### Copyright 2021 The TensorFlow Hub Authors.\n",
        "\n",
        "Licensed under the Apache License, Version 2.0 (the \"License\");"
      ]
    },
    {
      "cell_type": "code",
      "execution_count": 1,
      "metadata": {
        "id": "QKe-ubNcDvgv"
      },
      "outputs": [],
      "source": [
        "# Copyright 2021 The TensorFlow Hub Authors. All Rights Reserved.\n",
        "#\n",
        "# Licensed under the Apache License, Version 2.0 (the \"License\");\n",
        "# you may not use this file except in compliance with the License.\n",
        "# You may obtain a copy of the License at\n",
        "#\n",
        "#     http://www.apache.org/licenses/LICENSE-2.0\n",
        "#\n",
        "# Unless required by applicable law or agreed to in writing, software\n",
        "# distributed under the License is distributed on an \"AS IS\" BASIS,\n",
        "# WITHOUT WARRANTIES OR CONDITIONS OF ANY KIND, either express or implied.\n",
        "# See the License for the specific language governing permissions and\n",
        "# limitations under the License.\n",
        "# =============================================================================="
      ]
    },
    {
      "cell_type": "markdown",
      "metadata": {
        "id": "qFdPvlXBOdUN"
      },
      "source": [
        "# MoViNet for streaming action recognition"
      ]
    },
    {
      "cell_type": "markdown",
      "metadata": {
        "id": "MfBg1C5NB3X0"
      },
      "source": [
        "<table class=\"tfo-notebook-buttons\" align=\"left\">\n",
        "  <td>\n",
        "    <a target=\"_blank\" href=\"https://www.tensorflow.org/hub/tutorials/movinet\"><img src=\"https://www.tensorflow.org/images/tf_logo_32px.png\" />View on TensorFlow.org</a>\n",
        "  </td>\n",
        "  <td>\n",
        "    <a target=\"_blank\" href=\"https://colab.research.google.com/github/tensorflow/docs/blob/master/site/en/hub/tutorials/movinet.ipynb\"><img src=\"https://www.tensorflow.org/images/colab_logo_32px.png\" />Run in Google Colab</a>\n",
        "  </td>\n",
        "  <td>\n",
        "    <a target=\"_blank\" href=\"https://github.com/tensorflow/docs/blob/master/site/en/hub/tutorials/movinet.ipynb\"><img src=\"https://www.tensorflow.org/images/GitHub-Mark-32px.png\" />View on GitHub</a>\n",
        "  </td>\n",
        "  <td>\n",
        "    <a href=\"https://storage.googleapis.com/tensorflow_docs/docs/site/en/hub/tutorials/movinet.ipynb\"><img src=\"https://www.tensorflow.org/images/download_logo_32px.png\" />Download notebook</a>\n",
        "  </td>\n",
        "  <td>\n",
        "    <a href=\"https://tfhub.dev/google/collections/movinet/1\"><img src=\"https://www.tensorflow.org/images/hub_logo_32px.png\" />See TF Hub models</a>\n",
        "  </td>\n",
        "</table>"
      ]
    },
    {
      "cell_type": "markdown",
      "metadata": {
        "id": "-vxk2Kbc_KSP"
      },
      "source": [
        "This tutorial demonstrates how to use a pretrained video classification model to classify an activity (such as dancing, swimming, biking etc) in the given video.   \n",
        "\n",
        "The model architecture used in this tutorial is called [MoViNet](https://arxiv.org/pdf/2103.11511.pdf) (Mobile Video Networks). MoVieNets are a family of efficient video classification models trained on huge dataset ([Kinetics 600](https://deepmind.com/research/open-source/kinetics)).\n",
        "\n",
        "In contrast to the [i3d models](https://tfhub.dev/s?q=i3d-kinetics) available on TF Hub, MoViNets also support frame-by-frame inference on streaming video.\n",
        "\n",
        "The pretrained models are available from [TF Hub](https://tfhub.dev/google/collections/movinet/1). The TF Hub collection also includes quantized models optimized for [TFLite](https://tensorflow.org/lite).\n",
        "\n",
        "The source for these models is available in the [TensorFlow Model Garden](https://github.com/tensorflow/models/tree/master/official/projects/movinet). This includes a [longer version of this tutorial](https://colab.sandbox.google.com/github/tensorflow/models/blob/master/official/projects/movinet/movinet_tutorial.ipynb) that also covers building and fine-tuning a MoViNet model.\n",
        "\n",
        "This MoViNet tutorial is part of a series of TensorFlow video tutorials. Here are the other three tutorials:\n",
        "\n",
        "- [Load video data](https://www.tensorflow.org/tutorials/load_data/video): This tutorial explains how to load and preprocess video data into a TensorFlow dataset pipeline from scratch.\n",
        "- [Build a 3D CNN model for video classification](https://www.tensorflow.org/tutorials/video/video_classification). Note that this tutorial uses a (2+1)D CNN that decomposes the spatial and temporal aspects of 3D data; if you are using volumetric data such as an MRI scan, consider using a 3D CNN instead of a (2+1)D CNN.\n",
        "- [Transfer learning for video classification with MoViNet](https://www.tensorflow.org/tutorials/video/transfer_learning_with_movinet): This tutorial explains how to use a pre-trained video classification model trained on a different dataset with the UCF-101 dataset.\n"
      ]
    },
    {
      "cell_type": "markdown",
      "metadata": {
        "id": "3E96e1UKQ8uR"
      },
      "source": [
        "![jumping jacks plot](https://storage.googleapis.com/tf_model_garden/vision/movinet/artifacts/jumpingjacks_plot.gif)"
      ]
    },
    {
      "cell_type": "markdown",
      "metadata": {
        "id": "8_oLnvJy7kz5"
      },
      "source": [
        "## Setup\n",
        "\n",
        "For inference on smaller models (A0-A2), CPU is sufficient for this Colab."
      ]
    },
    {
      "cell_type": "code",
      "execution_count": 2,
      "metadata": {
        "colab": {
          "base_uri": "https://localhost:8080/"
        },
        "id": "GUgUMGmY1yq-",
        "outputId": "9ab2e051-a22e-404a-ce8d-530d611c9d1b"
      },
      "outputs": [],
      "source": [
        "# !sudo apt install -y ffmpeg\n",
        "!pip install -q mediapy"
      ]
    },
    {
      "cell_type": "code",
      "execution_count": 3,
      "metadata": {
        "colab": {
          "base_uri": "https://localhost:8080/"
        },
        "id": "s3khsunT7kWa",
        "outputId": "913a1157-0dca-4b3a-c431-67b46cebb068"
      },
      "outputs": [],
      "source": [
        "!pip uninstall -q -y opencv-python-headless\n",
        "!pip install -q \"opencv-python-headless<4.3\""
      ]
    },
    {
      "cell_type": "code",
      "execution_count": 4,
      "metadata": {
        "id": "dI_1csl6Q-gH"
      },
      "outputs": [
        {
          "name": "stderr",
          "output_type": "stream",
          "text": [
            "2024-09-02 15:56:22.514720: I tensorflow/core/util/port.cc:153] oneDNN custom operations are on. You may see slightly different numerical results due to floating-point round-off errors from different computation orders. To turn them off, set the environment variable `TF_ENABLE_ONEDNN_OPTS=0`.\n",
            "2024-09-02 15:56:22.524126: E external/local_xla/xla/stream_executor/cuda/cuda_fft.cc:485] Unable to register cuFFT factory: Attempting to register factory for plugin cuFFT when one has already been registered\n",
            "2024-09-02 15:56:22.534683: E external/local_xla/xla/stream_executor/cuda/cuda_dnn.cc:8454] Unable to register cuDNN factory: Attempting to register factory for plugin cuDNN when one has already been registered\n",
            "2024-09-02 15:56:22.537899: E external/local_xla/xla/stream_executor/cuda/cuda_blas.cc:1452] Unable to register cuBLAS factory: Attempting to register factory for plugin cuBLAS when one has already been registered\n",
            "2024-09-02 15:56:22.545751: I tensorflow/core/platform/cpu_feature_guard.cc:210] This TensorFlow binary is optimized to use available CPU instructions in performance-critical operations.\n",
            "To enable the following instructions: AVX2 AVX_VNNI FMA, in other operations, rebuild TensorFlow with the appropriate compiler flags.\n",
            "2024-09-02 15:56:23.084567: W tensorflow/compiler/tf2tensorrt/utils/py_utils.cc:38] TF-TRT Warning: Could not find TensorRT\n"
          ]
        }
      ],
      "source": [
        "# Import libraries\n",
        "import pathlib\n",
        "\n",
        "import matplotlib as mpl\n",
        "import matplotlib.pyplot as plt\n",
        "import mediapy as media\n",
        "import numpy as np\n",
        "import PIL\n",
        "\n",
        "import tensorflow as tf\n",
        "import tensorflow_hub as hub\n",
        "import tqdm\n",
        "\n",
        "mpl.rcParams.update({\n",
        "    'font.size': 10,\n",
        "})"
      ]
    },
    {
      "cell_type": "markdown",
      "metadata": {
        "id": "Pn8K9oWbmREi"
      },
      "source": [
        "Get the kinetics 600 label list, and print the first few labels:"
      ]
    },
    {
      "cell_type": "code",
      "execution_count": 5,
      "metadata": {
        "colab": {
          "base_uri": "https://localhost:8080/"
        },
        "id": "2VJUAcjhkfb3",
        "outputId": "bf7a0e57-43b6-4581-9013-a3f910dfaa93"
      },
      "outputs": [
        {
          "data": {
            "text/plain": [
              "array(['abseiling', 'acting in play', 'adjusting glasses', 'air drumming',\n",
              "       'alligator wrestling', 'answering questions', 'applauding',\n",
              "       'applying cream', 'archaeological excavation', 'archery',\n",
              "       'arguing', 'arm wrestling', 'arranging flowers',\n",
              "       'assembling bicycle', 'assembling computer',\n",
              "       'attending conference', 'auctioning', 'backflip (human)',\n",
              "       'baking cookies', 'bandaging'], dtype='<U49')"
            ]
          },
          "execution_count": 5,
          "metadata": {},
          "output_type": "execute_result"
        }
      ],
      "source": [
        "labels_path = tf.keras.utils.get_file(\n",
        "    fname='labels.txt',\n",
        "    origin='https://raw.githubusercontent.com/tensorflow/models/f8af2291cced43fc9f1d9b41ddbf772ae7b0d7d2/official/projects/movinet/files/kinetics_600_labels.txt'\n",
        ")\n",
        "labels_path = pathlib.Path(labels_path)\n",
        "\n",
        "lines = labels_path.read_text().splitlines()\n",
        "KINETICS_600_LABELS = np.array([line.strip() for line in lines])\n",
        "KINETICS_600_LABELS[:20]"
      ]
    },
    {
      "cell_type": "markdown",
      "metadata": {
        "id": "G9BU5XsOmaq3"
      },
      "source": [
        "To provide a simple example video for classification, we can load a short gif of jumping jacks being performed.\n",
        "\n",
        "![jumping jacks](https://github.com/tensorflow/models/raw/f8af2291cced43fc9f1d9b41ddbf772ae7b0d7d2/official/projects/movinet/files/jumpingjack.gif)\n",
        "\n",
        "Attribution: Footage shared by [Coach Bobby Bluford](https://www.youtube.com/watch?v=-AxHpj-EuPg) on YouTube under the CC-BY license."
      ]
    },
    {
      "cell_type": "markdown",
      "metadata": {
        "id": "8aFKMbr4mfSg"
      },
      "source": [
        "Download the gif."
      ]
    },
    {
      "cell_type": "code",
      "execution_count": 6,
      "metadata": {},
      "outputs": [
        {
          "data": {
            "text/plain": [
              "array(['abseiling', 'acting in play', 'adjusting glasses', 'air drumming',\n",
              "       'alligator wrestling', 'answering questions', 'applauding',\n",
              "       'applying cream', 'archaeological excavation', 'archery',\n",
              "       'arguing', 'arm wrestling', 'arranging flowers',\n",
              "       'assembling bicycle', 'assembling computer',\n",
              "       'attending conference', 'auctioning', 'backflip (human)',\n",
              "       'baking cookies', 'bandaging', 'barbequing', 'bartending',\n",
              "       'base jumping', 'bathing dog', 'battle rope training',\n",
              "       'beatboxing', 'bee keeping', 'belly dancing', 'bench pressing',\n",
              "       'bending back', 'bending metal', 'biking through snow',\n",
              "       'blasting sand', 'blowdrying hair', 'blowing bubble gum',\n",
              "       'blowing glass', 'blowing leaves', 'blowing nose',\n",
              "       'blowing out candles', 'bobsledding', 'bodysurfing', 'bookbinding',\n",
              "       'bottling', 'bouncing on bouncy castle', 'bouncing on trampoline',\n",
              "       'bowling', 'braiding hair', 'breading or breadcrumbing',\n",
              "       'breakdancing', 'breaking boards', 'breathing fire',\n",
              "       'brush painting', 'brushing hair', 'brushing teeth',\n",
              "       'building cabinet', 'building lego', 'building sandcastle',\n",
              "       'building shed', 'bull fighting', 'bulldozing', 'bungee jumping',\n",
              "       'burping', 'busking', 'calculating', 'calligraphy',\n",
              "       'canoeing or kayaking', 'capoeira', 'capsizing', 'card stacking',\n",
              "       'card throwing', 'carrying baby', 'cartwheeling', 'carving ice',\n",
              "       'carving pumpkin', 'casting fishing line', 'catching fish',\n",
              "       'catching or throwing baseball', 'catching or throwing frisbee',\n",
              "       'catching or throwing softball', 'celebrating',\n",
              "       'changing gear in car', 'changing oil',\n",
              "       'changing wheel (not on bike)', 'checking tires', 'cheerleading',\n",
              "       'chewing gum', 'chiseling stone', 'chiseling wood',\n",
              "       'chopping meat', 'chopping vegetables', 'chopping wood',\n",
              "       'clam digging', 'clapping', 'clay pottery making',\n",
              "       'clean and jerk', 'cleaning gutters', 'cleaning pool',\n",
              "       'cleaning shoes', 'cleaning toilet', 'cleaning windows',\n",
              "       'climbing a rope', 'climbing ladder', 'climbing tree',\n",
              "       'coloring in', 'combing hair', 'contact juggling', 'contorting',\n",
              "       'cooking egg', 'cooking on campfire',\n",
              "       'cooking sausages (not on barbeque)', 'cooking scallops',\n",
              "       'cosplaying', 'counting money', 'country line dancing',\n",
              "       'cracking back', 'cracking knuckles', 'cracking neck',\n",
              "       'crawling baby', 'crossing eyes', 'crossing river', 'crying',\n",
              "       'cumbia', 'curling (sport)', 'curling hair', 'cutting apple',\n",
              "       'cutting nails', 'cutting orange', 'cutting pineapple',\n",
              "       'cutting watermelon', 'dancing ballet', 'dancing charleston',\n",
              "       'dancing gangnam style', 'dancing macarena', 'deadlifting',\n",
              "       'decorating the christmas tree', 'delivering mail', 'dining',\n",
              "       'directing traffic', 'disc golfing', 'diving cliff',\n",
              "       'docking boat', 'dodgeball', 'doing aerobics',\n",
              "       'doing jigsaw puzzle', 'doing laundry', 'doing nails', 'drawing',\n",
              "       'dribbling basketball', 'drinking shots', 'driving car',\n",
              "       'driving tractor', 'drooling', 'drop kicking', 'drumming fingers',\n",
              "       'dumpster diving', 'dunking basketball', 'dyeing eyebrows',\n",
              "       'dyeing hair', 'eating burger', 'eating cake', 'eating carrots',\n",
              "       'eating chips', 'eating doughnuts', 'eating hotdog',\n",
              "       'eating ice cream', 'eating spaghetti', 'eating watermelon',\n",
              "       'egg hunting', 'embroidering', 'exercising with an exercise ball',\n",
              "       'extinguishing fire', 'faceplanting', 'falling off bike',\n",
              "       'falling off chair', 'feeding birds', 'feeding fish',\n",
              "       'feeding goats', 'fencing (sport)', 'fidgeting', 'finger snapping',\n",
              "       'fixing bicycle', 'fixing hair', 'flint knapping',\n",
              "       'flipping pancake', 'fly tying', 'flying kite', 'folding clothes',\n",
              "       'folding napkins', 'folding paper', 'front raises',\n",
              "       'frying vegetables', 'geocaching', 'getting a haircut',\n",
              "       'getting a piercing', 'getting a tattoo',\n",
              "       'giving or receiving award', 'gold panning', 'golf chipping',\n",
              "       'golf driving', 'golf putting', 'gospel singing in church',\n",
              "       'grinding meat', 'grooming dog', 'grooming horse',\n",
              "       'gymnastics tumbling', 'hammer throw', 'hand washing clothes',\n",
              "       'head stand', 'headbanging', 'headbutting', 'high jump',\n",
              "       'high kick', 'historical reenactment', 'hitting baseball',\n",
              "       'hockey stop', 'holding snake', 'home roasting coffee',\n",
              "       'hopscotch', 'hoverboarding', 'huddling', 'hugging (not baby)',\n",
              "       'hugging baby', 'hula hooping', 'hurdling', 'hurling (sport)',\n",
              "       'ice climbing', 'ice fishing', 'ice skating', 'ice swimming',\n",
              "       'inflating balloons', 'installing carpet', 'ironing',\n",
              "       'ironing hair', 'javelin throw', 'jaywalking', 'jetskiing',\n",
              "       'jogging', 'juggling balls', 'juggling fire',\n",
              "       'juggling soccer ball', 'jumping bicycle', 'jumping into pool',\n",
              "       'jumping jacks', 'jumpstyle dancing', 'karaoke',\n",
              "       'kicking field goal', 'kicking soccer ball', 'kissing',\n",
              "       'kitesurfing', 'knitting', 'krumping', 'land sailing', 'laughing',\n",
              "       'lawn mower racing', 'laying bricks', 'laying concrete',\n",
              "       'laying stone', 'laying tiles', 'leatherworking', 'licking',\n",
              "       'lifting hat', 'lighting fire', 'lock picking', 'long jump',\n",
              "       'longboarding', 'looking at phone', 'luge', 'lunge',\n",
              "       'making a cake', 'making a sandwich', 'making balloon shapes',\n",
              "       'making bubbles', 'making cheese', 'making horseshoes',\n",
              "       'making jewelry', 'making paper aeroplanes', 'making pizza',\n",
              "       'making snowman', 'making sushi', 'making tea', 'making the bed',\n",
              "       'marching', 'marriage proposal', 'massaging back',\n",
              "       'massaging feet', 'massaging legs', 'massaging neck',\n",
              "       \"massaging person's head\", 'milking cow', 'moon walking',\n",
              "       'mopping floor', 'mosh pit dancing', 'motorcycling',\n",
              "       'mountain climber (exercise)', 'moving furniture', 'mowing lawn',\n",
              "       'mushroom foraging', 'needle felting', 'news anchoring',\n",
              "       'opening bottle (not wine)', 'opening door', 'opening present',\n",
              "       'opening refrigerator', 'opening wine bottle', 'packing',\n",
              "       'paragliding', 'parasailing', 'parkour',\n",
              "       'passing American football (in game)',\n",
              "       'passing american football (not in game)', 'passing soccer ball',\n",
              "       'peeling apples', 'peeling potatoes', 'person collecting garbage',\n",
              "       'petting animal (not cat)', 'petting cat', 'photobombing',\n",
              "       'photocopying', 'picking fruit', 'pillow fight', 'pinching',\n",
              "       'pirouetting', 'planing wood', 'planting trees', 'plastering',\n",
              "       'playing accordion', 'playing badminton', 'playing bagpipes',\n",
              "       'playing basketball', 'playing bass guitar', 'playing beer pong',\n",
              "       'playing blackjack', 'playing cello', 'playing chess',\n",
              "       'playing clarinet', 'playing controller', 'playing cricket',\n",
              "       'playing cymbals', 'playing darts', 'playing didgeridoo',\n",
              "       'playing dominoes', 'playing drums', 'playing field hockey',\n",
              "       'playing flute', 'playing gong', 'playing guitar',\n",
              "       'playing hand clapping games', 'playing harmonica', 'playing harp',\n",
              "       'playing ice hockey', 'playing keyboard', 'playing kickball',\n",
              "       'playing laser tag', 'playing lute', 'playing maracas',\n",
              "       'playing marbles', 'playing monopoly', 'playing netball',\n",
              "       'playing ocarina', 'playing organ', 'playing paintball',\n",
              "       'playing pan pipes', 'playing piano', 'playing pinball',\n",
              "       'playing ping pong', 'playing poker', 'playing polo',\n",
              "       'playing recorder', 'playing rubiks cube', 'playing saxophone',\n",
              "       'playing scrabble', 'playing squash or racquetball',\n",
              "       'playing tennis', 'playing trombone', 'playing trumpet',\n",
              "       'playing ukulele', 'playing violin', 'playing volleyball',\n",
              "       'playing with trains', 'playing xylophone', 'poking bellybutton',\n",
              "       'pole vault', 'polishing metal', 'popping balloons',\n",
              "       'pouring beer', 'preparing salad', 'presenting weather forecast',\n",
              "       'pull ups', 'pumping fist', 'pumping gas', 'punching bag',\n",
              "       'punching person (boxing)', 'push up', 'pushing car',\n",
              "       'pushing cart', 'pushing wheelbarrow', 'pushing wheelchair',\n",
              "       'putting in contact lenses', 'putting on eyeliner',\n",
              "       'putting on foundation', 'putting on lipstick',\n",
              "       'putting on mascara', 'putting on sari', 'putting on shoes',\n",
              "       'raising eyebrows', 'reading book', 'reading newspaper',\n",
              "       'recording music', 'repairing puncture', 'riding a bike',\n",
              "       'riding camel', 'riding elephant', 'riding mechanical bull',\n",
              "       'riding mule', 'riding or walking with horse', 'riding scooter',\n",
              "       'riding snow blower', 'riding unicycle', 'ripping paper',\n",
              "       'roasting marshmallows', 'roasting pig', 'robot dancing',\n",
              "       'rock climbing', 'rock scissors paper', 'roller skating',\n",
              "       'rolling pastry', 'rope pushdown', 'running on treadmill',\n",
              "       'sailing', 'salsa dancing', 'sanding floor', 'sausage making',\n",
              "       'sawing wood', 'scrambling eggs', 'scrapbooking', 'scrubbing face',\n",
              "       'scuba diving', 'separating eggs', 'setting table', 'sewing',\n",
              "       'shaking hands', 'shaking head', 'shaping bread dough',\n",
              "       'sharpening knives', 'sharpening pencil', 'shaving head',\n",
              "       'shaving legs', 'shearing sheep', 'shining flashlight',\n",
              "       'shining shoes', 'shooting basketball', 'shooting goal (soccer)',\n",
              "       'shopping', 'shot put', 'shoveling snow', 'shucking oysters',\n",
              "       'shuffling cards', 'shuffling feet', 'side kick',\n",
              "       'sign language interpreting', 'singing', 'sipping cup', 'situp',\n",
              "       'skateboarding', 'ski jumping', 'skiing crosscountry',\n",
              "       'skiing mono', 'skiing slalom', 'skipping rope', 'skipping stone',\n",
              "       'skydiving', 'slacklining', 'slapping', 'sled dog racing',\n",
              "       'sleeping', 'smashing', 'smelling feet', 'smoking',\n",
              "       'smoking hookah', 'smoking pipe', 'snatch weight lifting',\n",
              "       'sneezing', 'snorkeling', 'snowboarding', 'snowkiting',\n",
              "       'snowmobiling', 'somersaulting', 'spelunking', 'spinning poi',\n",
              "       'spray painting', 'springboard diving', 'square dancing', 'squat',\n",
              "       'standing on hands', 'staring', 'steer roping',\n",
              "       'sticking tongue out', 'stomping grapes', 'stretching arm',\n",
              "       'stretching leg', 'sucking lolly', 'surfing crowd',\n",
              "       'surfing water', 'sweeping floor', 'swimming backstroke',\n",
              "       'swimming breast stroke', 'swimming butterfly stroke',\n",
              "       'swimming front crawl', 'swing dancing', 'swinging baseball bat',\n",
              "       'swinging on something', 'sword fighting', 'sword swallowing',\n",
              "       'tackling', 'tagging graffiti', 'tai chi', 'talking on cell phone',\n",
              "       'tango dancing', 'tap dancing', 'tapping guitar', 'tapping pen',\n",
              "       'tasting beer', 'tasting food', 'tasting wine', 'testifying',\n",
              "       'texting', 'threading needle', 'throwing axe',\n",
              "       'throwing ball (not baseball or American football)',\n",
              "       'throwing discus', 'throwing knife', 'throwing snowballs',\n",
              "       'throwing tantrum', 'throwing water balloon', 'tickling',\n",
              "       'tie dying', 'tightrope walking', 'tiptoeing', 'tobogganing',\n",
              "       'tossing coin', 'training dog', 'trapezing',\n",
              "       'trimming or shaving beard', 'trimming shrubs', 'trimming trees',\n",
              "       'triple jump', 'twiddling fingers', 'tying bow tie',\n",
              "       'tying knot (not on a tie)', 'tying necktie', 'tying shoe laces',\n",
              "       'unboxing', 'unloading truck', 'using a microscope',\n",
              "       'using a paint roller', 'using a power drill',\n",
              "       'using a sledge hammer', 'using a wrench', 'using atm',\n",
              "       'using bagging machine', 'using circular saw', 'using inhaler',\n",
              "       'using puppets', 'using remote controller (not gaming)',\n",
              "       'using segway', 'vacuuming floor', 'visiting the zoo',\n",
              "       'wading through mud', 'wading through water', 'waiting in line',\n",
              "       'waking up', 'walking the dog', 'walking through snow',\n",
              "       'washing dishes', 'washing feet', 'washing hair', 'washing hands',\n",
              "       'watching tv', 'water skiing', 'water sliding', 'watering plants',\n",
              "       'waving hand', 'waxing back', 'waxing chest', 'waxing eyebrows',\n",
              "       'waxing legs', 'weaving basket', 'weaving fabric', 'welding',\n",
              "       'whistling', 'windsurfing', 'winking', 'wood burning (art)',\n",
              "       'wrapping present', 'wrestling', 'writing', 'yarn spinning',\n",
              "       'yawning', 'yoga', 'zumba'], dtype='<U49')"
            ]
          },
          "execution_count": 6,
          "metadata": {},
          "output_type": "execute_result"
        }
      ],
      "source": [
        "KINETICS_600_LABELS"
      ]
    },
    {
      "cell_type": "code",
      "execution_count": 7,
      "metadata": {
        "id": "w62jqXhaSb15"
      },
      "outputs": [],
      "source": [
        "jumpingjack_url = 'https://github.com/tensorflow/models/raw/f8af2291cced43fc9f1d9b41ddbf772ae7b0d7d2/official/projects/movinet/files/jumpingjack.gif'\n",
        "jumpingjack_path = tf.keras.utils.get_file(\n",
        "    fname='jumpingjack.gif',\n",
        "    origin=jumpingjack_url,\n",
        "    cache_dir='.', cache_subdir='.',\n",
        ")"
      ]
    },
    {
      "cell_type": "markdown",
      "metadata": {
        "id": "hdRS_22PebfB"
      },
      "source": [
        "Define a function to read a gif file into a `tf.Tensor`:"
      ]
    },
    {
      "cell_type": "code",
      "execution_count": 8,
      "metadata": {
        "id": "mPhmCu6oSi5f"
      },
      "outputs": [],
      "source": [
        "#@title\n",
        "# Read and process a video\n",
        "def load_gif(file_path, image_size=(224, 224)):\n",
        "  \"\"\"Loads a gif file into a TF tensor.\n",
        "\n",
        "  Use images resized to match what's expected by your model.\n",
        "  The model pages say the \"A2\" models expect 224 x 224 images at 5 fps\n",
        "\n",
        "  Args:\n",
        "    file_path: path to the location of a gif file.\n",
        "    image_size: a tuple of target size.\n",
        "\n",
        "  Returns:\n",
        "    a video of the gif file\n",
        "  \"\"\"\n",
        "  # Load a gif file, convert it to a TF tensor\n",
        "  raw = tf.io.read_file(file_path)\n",
        "  video = tf.io.decode_gif(raw)\n",
        "  # Resize the video\n",
        "  video = tf.image.resize(video, image_size)\n",
        "  # change dtype to a float32\n",
        "  # Hub models always want images normalized to [0,1]\n",
        "  # ref: https://www.tensorflow.org/hub/common_signatures/images#input\n",
        "  video = tf.cast(video, tf.float32) / 255.\n",
        "  return video"
      ]
    },
    {
      "cell_type": "markdown",
      "metadata": {
        "id": "Xx7cZm8vpDJm"
      },
      "source": [
        "The video's shape is `(frames, height, width, colors)`"
      ]
    },
    {
      "cell_type": "code",
      "execution_count": 9,
      "metadata": {
        "colab": {
          "base_uri": "https://localhost:8080/"
        },
        "id": "E7k_PmbFSkHv",
        "outputId": "e5274593-67fd-49f4-a435-fc0c5e246058"
      },
      "outputs": [
        {
          "name": "stderr",
          "output_type": "stream",
          "text": [
            "WARNING: All log messages before absl::InitializeLog() is called are written to STDERR\n",
            "I0000 00:00:1725272783.973655   45824 cuda_executor.cc:1015] successful NUMA node read from SysFS had negative value (-1), but there must be at least one NUMA node, so returning NUMA node zero. See more at https://github.com/torvalds/linux/blob/v6.0/Documentation/ABI/testing/sysfs-bus-pci#L344-L355\n",
            "2024-09-02 15:56:24.011573: W tensorflow/core/common_runtime/gpu/gpu_device.cc:2343] Cannot dlopen some GPU libraries. Please make sure the missing libraries mentioned above are installed properly if you would like to use GPU. Follow the guide at https://www.tensorflow.org/install/gpu for how to download and setup the required libraries for your platform.\n",
            "Skipping registering GPU devices...\n"
          ]
        },
        {
          "data": {
            "text/plain": [
              "TensorShape([13, 224, 224, 3])"
            ]
          },
          "execution_count": 9,
          "metadata": {},
          "output_type": "execute_result"
        }
      ],
      "source": [
        "jumpingjack=load_gif(jumpingjack_path)\n",
        "jumpingjack.shape"
      ]
    },
    {
      "cell_type": "markdown",
      "metadata": {
        "id": "LcKFy3oedBvF"
      },
      "source": [
        "## How to use the model\n",
        "\n",
        "This section contains a walkthrough showing how to use the [models from TensorFlow Hub](https://tfhub.dev/google/collections/movinet/1). If you just want to see the models in action, skip to the next section.\n",
        "\n",
        "There are two versions of each model: `base` and `streaming`.\n",
        "\n",
        "* The `base` version takes a video as input, and returns the probabilities averaged over the frames.\n",
        "* The `streaming` version takes a video frame and an RNN state as input, and returns the predictions for that frame, and the new RNN state."
      ]
    },
    {
      "cell_type": "markdown",
      "metadata": {
        "id": "WQO6Zb8Hm-9q"
      },
      "source": [
        "### The base model"
      ]
    },
    {
      "cell_type": "markdown",
      "metadata": {
        "id": "RfnYU20JnPqp"
      },
      "source": [
        "Download the [pretrained model from TensorFlow Hub](https://tfhub.dev/tensorflow/movinet/a2/base/kinetics-600/classification/3)."
      ]
    },
    {
      "cell_type": "code",
      "execution_count": 10,
      "metadata": {
        "colab": {
          "base_uri": "https://localhost:8080/"
        },
        "id": "FnpPo6HSR7qv",
        "outputId": "962d1542-d209-4d4e-b8dd-cd74e3f4cf41"
      },
      "outputs": [
        {
          "name": "stdout",
          "output_type": "stream",
          "text": [
            "CPU times: user 6.48 s, sys: 246 ms, total: 6.72 s\n",
            "Wall time: 6.72 s\n"
          ]
        }
      ],
      "source": [
        "%%time\n",
        "id = 'a2'\n",
        "mode = 'base'\n",
        "version = '3'\n",
        "hub_url = f'https://tfhub.dev/tensorflow/movinet/{id}/{mode}/kinetics-600/classification/{version}'\n",
        "model = hub.load(hub_url)"
      ]
    },
    {
      "cell_type": "markdown",
      "metadata": {
        "id": "jvaFwKhxndmb"
      },
      "source": [
        "This version of the model has one `signature`. It takes an `image` argument which is a `tf.float32` with shape `(batch, frames, height, width, colors)`. It returns a dictionary containing one output: A `tf.float32` tensor of logits with shape `(batch, classes)`."
      ]
    },
    {
      "cell_type": "code",
      "execution_count": 11,
      "metadata": {
        "colab": {
          "base_uri": "https://localhost:8080/"
        },
        "id": "7GzZ4Y03T_gH",
        "outputId": "b4509bba-4eaa-48ef-8b2d-053ca30f9d2d"
      },
      "outputs": [
        {
          "name": "stdout",
          "output_type": "stream",
          "text": [
            "Input Parameters:\n",
            "  image (KEYWORD_ONLY): TensorSpec(shape=(None, None, None, None, 3), dtype=tf.float32, name='image')\n",
            "Output Type:\n",
            "  Dict[['classifier_head', TensorSpec(shape=(None, 600), dtype=tf.float32, name='classifier_head')]]\n",
            "Captures:\n",
            "  124109840280816: TensorSpec(shape=(), dtype=tf.resource, name=None)\n",
            "  124109840341072: TensorSpec(shape=(), dtype=tf.resource, name=None)\n",
            "  124109840340896: TensorSpec(shape=(), dtype=tf.resource, name=None)\n",
            "  124109840340544: TensorSpec(shape=(), dtype=tf.resource, name=None)\n",
            "  124109840340720: TensorSpec(shape=(), dtype=tf.resource, name=None)\n",
            "  124109840280464: TensorSpec(shape=(), dtype=tf.resource, name=None)\n",
            "  124109840340368: TensorSpec(shape=(), dtype=tf.resource, name=None)\n",
            "  124109840339840: TensorSpec(shape=(), dtype=tf.resource, name=None)\n",
            "  124109840340016: TensorSpec(shape=(), dtype=tf.resource, name=None)\n",
            "  124109840340192: TensorSpec(shape=(), dtype=tf.resource, name=None)\n",
            "  124109840280640: TensorSpec(shape=(), dtype=tf.resource, name=None)\n",
            "  124109840339664: TensorSpec(shape=(), dtype=tf.resource, name=None)\n",
            "  124109840339136: TensorSpec(shape=(), dtype=tf.resource, name=None)\n",
            "  124109840339488: TensorSpec(shape=(), dtype=tf.resource, name=None)\n",
            "  124109840339312: TensorSpec(shape=(), dtype=tf.resource, name=None)\n",
            "  124109840280112: TensorSpec(shape=(), dtype=tf.resource, name=None)\n",
            "  124109840279936: TensorSpec(shape=(), dtype=tf.resource, name=None)\n",
            "  124109840279760: TensorSpec(shape=(), dtype=tf.resource, name=None)\n",
            "  124109840279584: TensorSpec(shape=(), dtype=tf.resource, name=None)\n",
            "  124109840280288: TensorSpec(shape=(), dtype=tf.resource, name=None)\n",
            "  124109840338784: TensorSpec(shape=(), dtype=tf.resource, name=None)\n",
            "  124109840338608: TensorSpec(shape=(), dtype=tf.resource, name=None)\n",
            "  124109840338432: TensorSpec(shape=(), dtype=tf.resource, name=None)\n",
            "  124109840338960: TensorSpec(shape=(), dtype=tf.resource, name=None)\n",
            "  124109840279232: TensorSpec(shape=(), dtype=tf.resource, name=None)\n",
            "  124109840279408: TensorSpec(shape=(), dtype=tf.resource, name=None)\n",
            "  124109840856896: TensorSpec(shape=(), dtype=tf.resource, name=None)\n",
            "  124109840856544: TensorSpec(shape=(), dtype=tf.resource, name=None)\n",
            "  124109840855840: TensorSpec(shape=(), dtype=tf.resource, name=None)\n",
            "  124109840856192: TensorSpec(shape=(), dtype=tf.resource, name=None)\n",
            "  124109840279056: TensorSpec(shape=(), dtype=tf.resource, name=None)\n",
            "  124109840337728: TensorSpec(shape=(), dtype=tf.resource, name=None)\n",
            "  124109840337904: TensorSpec(shape=(), dtype=tf.resource, name=None)\n",
            "  124109840338256: TensorSpec(shape=(), dtype=tf.resource, name=None)\n",
            "  124109840338080: TensorSpec(shape=(), dtype=tf.resource, name=None)\n",
            "  124109840278880: TensorSpec(shape=(), dtype=tf.resource, name=None)\n",
            "  124109840337024: TensorSpec(shape=(), dtype=tf.resource, name=None)\n",
            "  124109840337552: TensorSpec(shape=(), dtype=tf.resource, name=None)\n",
            "  124109840337376: TensorSpec(shape=(), dtype=tf.resource, name=None)\n",
            "  124109840337200: TensorSpec(shape=(), dtype=tf.resource, name=None)\n",
            "  124109840278528: TensorSpec(shape=(), dtype=tf.resource, name=None)\n",
            "  124109840278352: TensorSpec(shape=(), dtype=tf.resource, name=None)\n",
            "  124109840278176: TensorSpec(shape=(), dtype=tf.resource, name=None)\n",
            "  124109840278000: TensorSpec(shape=(), dtype=tf.resource, name=None)\n",
            "  124109840278704: TensorSpec(shape=(), dtype=tf.resource, name=None)\n",
            "  124109840336672: TensorSpec(shape=(), dtype=tf.resource, name=None)\n",
            "  124109840336496: TensorSpec(shape=(), dtype=tf.resource, name=None)\n",
            "  124109840336320: TensorSpec(shape=(), dtype=tf.resource, name=None)\n",
            "  124109840336848: TensorSpec(shape=(), dtype=tf.resource, name=None)\n",
            "  124109840277824: TensorSpec(shape=(), dtype=tf.resource, name=None)\n",
            "  124109840277648: TensorSpec(shape=(), dtype=tf.resource, name=None)\n",
            "  124109840335968: TensorSpec(shape=(), dtype=tf.resource, name=None)\n",
            "  124109840335792: TensorSpec(shape=(), dtype=tf.resource, name=None)\n",
            "  124109840336144: TensorSpec(shape=(), dtype=tf.resource, name=None)\n",
            "  124109840335616: TensorSpec(shape=(), dtype=tf.resource, name=None)\n",
            "  124109840277472: TensorSpec(shape=(), dtype=tf.resource, name=None)\n",
            "  124109840335088: TensorSpec(shape=(), dtype=tf.resource, name=None)\n",
            "  124109840334912: TensorSpec(shape=(), dtype=tf.resource, name=None)\n",
            "  124109840335440: TensorSpec(shape=(), dtype=tf.resource, name=None)\n",
            "  124109840335264: TensorSpec(shape=(), dtype=tf.resource, name=None)\n",
            "  124109840277120: TensorSpec(shape=(), dtype=tf.resource, name=None)\n",
            "  124109840276944: TensorSpec(shape=(), dtype=tf.resource, name=None)\n",
            "  124109840276768: TensorSpec(shape=(), dtype=tf.resource, name=None)\n",
            "  124109840276592: TensorSpec(shape=(), dtype=tf.resource, name=None)\n",
            "  124109840277296: TensorSpec(shape=(), dtype=tf.resource, name=None)\n",
            "  124112200236752: TensorSpec(shape=(), dtype=tf.resource, name=None)\n",
            "  124112200236576: TensorSpec(shape=(), dtype=tf.resource, name=None)\n",
            "  124112200236400: TensorSpec(shape=(), dtype=tf.resource, name=None)\n",
            "  124112200236224: TensorSpec(shape=(), dtype=tf.resource, name=None)\n",
            "  124109840276416: TensorSpec(shape=(), dtype=tf.resource, name=None)\n",
            "  124109840276240: TensorSpec(shape=(), dtype=tf.resource, name=None)\n",
            "  124112200236048: TensorSpec(shape=(), dtype=tf.resource, name=None)\n",
            "  124112200235872: TensorSpec(shape=(), dtype=tf.resource, name=None)\n",
            "  124112200235696: TensorSpec(shape=(), dtype=tf.resource, name=None)\n",
            "  124112200235520: TensorSpec(shape=(), dtype=tf.resource, name=None)\n",
            "  124109840276064: TensorSpec(shape=(), dtype=tf.resource, name=None)\n",
            "  124112200234992: TensorSpec(shape=(), dtype=tf.resource, name=None)\n",
            "  124112200234816: TensorSpec(shape=(), dtype=tf.resource, name=None)\n",
            "  124112200235344: TensorSpec(shape=(), dtype=tf.resource, name=None)\n",
            "  124112200235168: TensorSpec(shape=(), dtype=tf.resource, name=None)\n",
            "  124109840275712: TensorSpec(shape=(), dtype=tf.resource, name=None)\n",
            "  124109840275536: TensorSpec(shape=(), dtype=tf.resource, name=None)\n",
            "  124109840275360: TensorSpec(shape=(), dtype=tf.resource, name=None)\n",
            "  124109840275184: TensorSpec(shape=(), dtype=tf.resource, name=None)\n",
            "  124109840275888: TensorSpec(shape=(), dtype=tf.resource, name=None)\n",
            "  124112200234288: TensorSpec(shape=(), dtype=tf.resource, name=None)\n",
            "  124112200234112: TensorSpec(shape=(), dtype=tf.resource, name=None)\n",
            "  124112200234640: TensorSpec(shape=(), dtype=tf.resource, name=None)\n",
            "  124112200234464: TensorSpec(shape=(), dtype=tf.resource, name=None)\n",
            "  124109840274832: TensorSpec(shape=(), dtype=tf.resource, name=None)\n",
            "  124109840275008: TensorSpec(shape=(), dtype=tf.resource, name=None)\n",
            "  124109840855488: TensorSpec(shape=(), dtype=tf.resource, name=None)\n",
            "  124109840855136: TensorSpec(shape=(), dtype=tf.resource, name=None)\n",
            "  124109840854784: TensorSpec(shape=(), dtype=tf.resource, name=None)\n",
            "  124109840854432: TensorSpec(shape=(), dtype=tf.resource, name=None)\n",
            "  124109840273776: TensorSpec(shape=(), dtype=tf.resource, name=None)\n",
            "  124112200233760: TensorSpec(shape=(), dtype=tf.resource, name=None)\n",
            "  124112200233584: TensorSpec(shape=(), dtype=tf.resource, name=None)\n",
            "  124112200233408: TensorSpec(shape=(), dtype=tf.resource, name=None)\n",
            "  124112200233936: TensorSpec(shape=(), dtype=tf.resource, name=None)\n",
            "  124109840273600: TensorSpec(shape=(), dtype=tf.resource, name=None)\n",
            "  124112200232880: TensorSpec(shape=(), dtype=tf.resource, name=None)\n",
            "  124112200232704: TensorSpec(shape=(), dtype=tf.resource, name=None)\n",
            "  124112200233232: TensorSpec(shape=(), dtype=tf.resource, name=None)\n",
            "  124112200233056: TensorSpec(shape=(), dtype=tf.resource, name=None)\n",
            "  124109840274656: TensorSpec(shape=(), dtype=tf.resource, name=None)\n",
            "  124109840274480: TensorSpec(shape=(), dtype=tf.resource, name=None)\n",
            "  124109840274304: TensorSpec(shape=(), dtype=tf.resource, name=None)\n",
            "  124109840274128: TensorSpec(shape=(), dtype=tf.resource, name=None)\n",
            "  124109840273424: TensorSpec(shape=(), dtype=tf.resource, name=None)\n",
            "  124112200232000: TensorSpec(shape=(), dtype=tf.resource, name=None)\n",
            "  124112200232528: TensorSpec(shape=(), dtype=tf.resource, name=None)\n",
            "  124112200232352: TensorSpec(shape=(), dtype=tf.resource, name=None)\n",
            "  124112200232176: TensorSpec(shape=(), dtype=tf.resource, name=None)\n",
            "  124109840273952: TensorSpec(shape=(), dtype=tf.resource, name=None)\n",
            "  124109840273248: TensorSpec(shape=(), dtype=tf.resource, name=None)\n",
            "  124112200231296: TensorSpec(shape=(), dtype=tf.resource, name=None)\n",
            "  124112200231824: TensorSpec(shape=(), dtype=tf.resource, name=None)\n",
            "  124112200231648: TensorSpec(shape=(), dtype=tf.resource, name=None)\n",
            "  124112200231472: TensorSpec(shape=(), dtype=tf.resource, name=None)\n",
            "  124109840273072: TensorSpec(shape=(), dtype=tf.resource, name=None)\n",
            "  124112200230944: TensorSpec(shape=(), dtype=tf.resource, name=None)\n",
            "  124112200230768: TensorSpec(shape=(), dtype=tf.resource, name=None)\n",
            "  124112200230592: TensorSpec(shape=(), dtype=tf.resource, name=None)\n",
            "  124112200231120: TensorSpec(shape=(), dtype=tf.resource, name=None)\n",
            "  124109840272720: TensorSpec(shape=(), dtype=tf.resource, name=None)\n",
            "  124109840272544: TensorSpec(shape=(), dtype=tf.resource, name=None)\n",
            "  124109840272368: TensorSpec(shape=(), dtype=tf.resource, name=None)\n",
            "  124109840272192: TensorSpec(shape=(), dtype=tf.resource, name=None)\n",
            "  124109840272896: TensorSpec(shape=(), dtype=tf.resource, name=None)\n",
            "  124112200230064: TensorSpec(shape=(), dtype=tf.resource, name=None)\n",
            "  124112200229888: TensorSpec(shape=(), dtype=tf.resource, name=None)\n",
            "  124112200230416: TensorSpec(shape=(), dtype=tf.resource, name=None)\n",
            "  124112200230240: TensorSpec(shape=(), dtype=tf.resource, name=None)\n",
            "  124109840272016: TensorSpec(shape=(), dtype=tf.resource, name=None)\n",
            "  124109840271840: TensorSpec(shape=(), dtype=tf.resource, name=None)\n",
            "  124112200229360: TensorSpec(shape=(), dtype=tf.resource, name=None)\n",
            "  124112200229184: TensorSpec(shape=(), dtype=tf.resource, name=None)\n",
            "  124112200229712: TensorSpec(shape=(), dtype=tf.resource, name=None)\n",
            "  124112200229536: TensorSpec(shape=(), dtype=tf.resource, name=None)\n",
            "  124109840271664: TensorSpec(shape=(), dtype=tf.resource, name=None)\n",
            "  124112200229008: TensorSpec(shape=(), dtype=tf.resource, name=None)\n",
            "  124112200228832: TensorSpec(shape=(), dtype=tf.resource, name=None)\n",
            "  124112200228656: TensorSpec(shape=(), dtype=tf.resource, name=None)\n",
            "  124112200228480: TensorSpec(shape=(), dtype=tf.resource, name=None)\n",
            "  124109840271312: TensorSpec(shape=(), dtype=tf.resource, name=None)\n",
            "  124109840271136: TensorSpec(shape=(), dtype=tf.resource, name=None)\n",
            "  124109840270960: TensorSpec(shape=(), dtype=tf.resource, name=None)\n",
            "  124109840270784: TensorSpec(shape=(), dtype=tf.resource, name=None)\n",
            "  124109840271488: TensorSpec(shape=(), dtype=tf.resource, name=None)\n",
            "  124112200228128: TensorSpec(shape=(), dtype=tf.resource, name=None)\n",
            "  124112200227952: TensorSpec(shape=(), dtype=tf.resource, name=None)\n",
            "  124112200227776: TensorSpec(shape=(), dtype=tf.resource, name=None)\n",
            "  124112200228304: TensorSpec(shape=(), dtype=tf.resource, name=None)\n",
            "  124109840270608: TensorSpec(shape=(), dtype=tf.resource, name=None)\n",
            "  124109840270432: TensorSpec(shape=(), dtype=tf.resource, name=None)\n",
            "  124112200227248: TensorSpec(shape=(), dtype=tf.resource, name=None)\n",
            "  124112200227072: TensorSpec(shape=(), dtype=tf.resource, name=None)\n",
            "  124112200227600: TensorSpec(shape=(), dtype=tf.resource, name=None)\n",
            "  124112200227424: TensorSpec(shape=(), dtype=tf.resource, name=None)\n",
            "  124109840270256: TensorSpec(shape=(), dtype=tf.resource, name=None)\n",
            "  124112200226544: TensorSpec(shape=(), dtype=tf.resource, name=None)\n",
            "  124112200226368: TensorSpec(shape=(), dtype=tf.resource, name=None)\n",
            "  124112200226896: TensorSpec(shape=(), dtype=tf.resource, name=None)\n",
            "  124112200226720: TensorSpec(shape=(), dtype=tf.resource, name=None)\n",
            "  124109840269904: TensorSpec(shape=(), dtype=tf.resource, name=None)\n",
            "  124109840269728: TensorSpec(shape=(), dtype=tf.resource, name=None)\n",
            "  124109840269552: TensorSpec(shape=(), dtype=tf.resource, name=None)\n",
            "  124109840269376: TensorSpec(shape=(), dtype=tf.resource, name=None)\n",
            "  124109840270080: TensorSpec(shape=(), dtype=tf.resource, name=None)\n",
            "  124112200226192: TensorSpec(shape=(), dtype=tf.resource, name=None)\n",
            "  124112200226016: TensorSpec(shape=(), dtype=tf.resource, name=None)\n",
            "  124112200225840: TensorSpec(shape=(), dtype=tf.resource, name=None)\n",
            "  124112200225664: TensorSpec(shape=(), dtype=tf.resource, name=None)\n",
            "  124109840711376: TensorSpec(shape=(), dtype=tf.resource, name=None)\n",
            "  124109840711200: TensorSpec(shape=(), dtype=tf.resource, name=None)\n",
            "  124112200225312: TensorSpec(shape=(), dtype=tf.resource, name=None)\n",
            "  124112200225136: TensorSpec(shape=(), dtype=tf.resource, name=None)\n",
            "  124112200224960: TensorSpec(shape=(), dtype=tf.resource, name=None)\n",
            "  124112200225488: TensorSpec(shape=(), dtype=tf.resource, name=None)\n",
            "  124109840711024: TensorSpec(shape=(), dtype=tf.resource, name=None)\n",
            "  124112200224432: TensorSpec(shape=(), dtype=tf.resource, name=None)\n",
            "  124112200224256: TensorSpec(shape=(), dtype=tf.resource, name=None)\n",
            "  124112200224784: TensorSpec(shape=(), dtype=tf.resource, name=None)\n",
            "  124112200224608: TensorSpec(shape=(), dtype=tf.resource, name=None)\n",
            "  124109840710672: TensorSpec(shape=(), dtype=tf.resource, name=None)\n",
            "  124109840710496: TensorSpec(shape=(), dtype=tf.resource, name=None)\n",
            "  124109840710320: TensorSpec(shape=(), dtype=tf.resource, name=None)\n",
            "  124109840710144: TensorSpec(shape=(), dtype=tf.resource, name=None)\n",
            "  124109840710848: TensorSpec(shape=(), dtype=tf.resource, name=None)\n",
            "  124112200223552: TensorSpec(shape=(), dtype=tf.resource, name=None)\n",
            "  124112200224080: TensorSpec(shape=(), dtype=tf.resource, name=None)\n",
            "  124112200223904: TensorSpec(shape=(), dtype=tf.resource, name=None)\n",
            "  124112200223728: TensorSpec(shape=(), dtype=tf.resource, name=None)\n",
            "  124109840709792: TensorSpec(shape=(), dtype=tf.resource, name=None)\n",
            "  124109840709968: TensorSpec(shape=(), dtype=tf.resource, name=None)\n",
            "  124109840854080: TensorSpec(shape=(), dtype=tf.resource, name=None)\n",
            "  124109840853024: TensorSpec(shape=(), dtype=tf.resource, name=None)\n",
            "  124109840853728: TensorSpec(shape=(), dtype=tf.resource, name=None)\n",
            "  124109840853376: TensorSpec(shape=(), dtype=tf.resource, name=None)\n",
            "  124109840709616: TensorSpec(shape=(), dtype=tf.resource, name=None)\n",
            "  124112200223200: TensorSpec(shape=(), dtype=tf.resource, name=None)\n",
            "  124112200223024: TensorSpec(shape=(), dtype=tf.resource, name=None)\n",
            "  124112200222848: TensorSpec(shape=(), dtype=tf.resource, name=None)\n",
            "  124112200223376: TensorSpec(shape=(), dtype=tf.resource, name=None)\n",
            "  124109840709440: TensorSpec(shape=(), dtype=tf.resource, name=None)\n",
            "  124112200222320: TensorSpec(shape=(), dtype=tf.resource, name=None)\n",
            "  124112200222144: TensorSpec(shape=(), dtype=tf.resource, name=None)\n",
            "  124112200222672: TensorSpec(shape=(), dtype=tf.resource, name=None)\n",
            "  124112200222496: TensorSpec(shape=(), dtype=tf.resource, name=None)\n",
            "  124109840709088: TensorSpec(shape=(), dtype=tf.resource, name=None)\n",
            "  124109840708912: TensorSpec(shape=(), dtype=tf.resource, name=None)\n",
            "  124109840708736: TensorSpec(shape=(), dtype=tf.resource, name=None)\n",
            "  124109840708560: TensorSpec(shape=(), dtype=tf.resource, name=None)\n",
            "  124109840709264: TensorSpec(shape=(), dtype=tf.resource, name=None)\n",
            "  124112200221968: TensorSpec(shape=(), dtype=tf.resource, name=None)\n",
            "  124112200221792: TensorSpec(shape=(), dtype=tf.resource, name=None)\n",
            "  124112200221616: TensorSpec(shape=(), dtype=tf.resource, name=None)\n",
            "  124112200221440: TensorSpec(shape=(), dtype=tf.resource, name=None)\n",
            "  124109840708384: TensorSpec(shape=(), dtype=tf.resource, name=None)\n",
            "  124109840708208: TensorSpec(shape=(), dtype=tf.resource, name=None)\n",
            "  124112200221264: TensorSpec(shape=(), dtype=tf.resource, name=None)\n",
            "  124112200221088: TensorSpec(shape=(), dtype=tf.resource, name=None)\n",
            "  124112200220912: TensorSpec(shape=(), dtype=tf.resource, name=None)\n",
            "  124112200220736: TensorSpec(shape=(), dtype=tf.resource, name=None)\n",
            "  124109840708032: TensorSpec(shape=(), dtype=tf.resource, name=None)\n",
            "  124112200089120: TensorSpec(shape=(), dtype=tf.resource, name=None)\n",
            "  124112200088944: TensorSpec(shape=(), dtype=tf.resource, name=None)\n",
            "  124112200088768: TensorSpec(shape=(), dtype=tf.resource, name=None)\n",
            "  124112200089296: TensorSpec(shape=(), dtype=tf.resource, name=None)\n",
            "  124109840707680: TensorSpec(shape=(), dtype=tf.resource, name=None)\n",
            "  124109840707504: TensorSpec(shape=(), dtype=tf.resource, name=None)\n",
            "  124109840707328: TensorSpec(shape=(), dtype=tf.resource, name=None)\n",
            "  124109840707152: TensorSpec(shape=(), dtype=tf.resource, name=None)\n",
            "  124109840707856: TensorSpec(shape=(), dtype=tf.resource, name=None)\n",
            "  124112200088240: TensorSpec(shape=(), dtype=tf.resource, name=None)\n",
            "  124112200088064: TensorSpec(shape=(), dtype=tf.resource, name=None)\n",
            "  124112200088592: TensorSpec(shape=(), dtype=tf.resource, name=None)\n",
            "  124112200088416: TensorSpec(shape=(), dtype=tf.resource, name=None)\n",
            "  124109840706976: TensorSpec(shape=(), dtype=tf.resource, name=None)\n",
            "  124109840706800: TensorSpec(shape=(), dtype=tf.resource, name=None)\n",
            "  124112200087536: TensorSpec(shape=(), dtype=tf.resource, name=None)\n",
            "  124112200087360: TensorSpec(shape=(), dtype=tf.resource, name=None)\n",
            "  124112200087888: TensorSpec(shape=(), dtype=tf.resource, name=None)\n",
            "  124112200087712: TensorSpec(shape=(), dtype=tf.resource, name=None)\n",
            "  124109840706624: TensorSpec(shape=(), dtype=tf.resource, name=None)\n",
            "  124112200087184: TensorSpec(shape=(), dtype=tf.resource, name=None)\n",
            "  124112200087008: TensorSpec(shape=(), dtype=tf.resource, name=None)\n",
            "  124112200086832: TensorSpec(shape=(), dtype=tf.resource, name=None)\n",
            "  124112200086656: TensorSpec(shape=(), dtype=tf.resource, name=None)\n",
            "  124109840706272: TensorSpec(shape=(), dtype=tf.resource, name=None)\n",
            "  124109840706096: TensorSpec(shape=(), dtype=tf.resource, name=None)\n",
            "  124109840705920: TensorSpec(shape=(), dtype=tf.resource, name=None)\n",
            "  124109840705744: TensorSpec(shape=(), dtype=tf.resource, name=None)\n",
            "  124109840706448: TensorSpec(shape=(), dtype=tf.resource, name=None)\n",
            "  124112200086304: TensorSpec(shape=(), dtype=tf.resource, name=None)\n",
            "  124112200086128: TensorSpec(shape=(), dtype=tf.resource, name=None)\n",
            "  124112200085952: TensorSpec(shape=(), dtype=tf.resource, name=None)\n",
            "  124112200086480: TensorSpec(shape=(), dtype=tf.resource, name=None)\n",
            "  124109840705568: TensorSpec(shape=(), dtype=tf.resource, name=None)\n",
            "  124109840705392: TensorSpec(shape=(), dtype=tf.resource, name=None)\n",
            "  124112200085424: TensorSpec(shape=(), dtype=tf.resource, name=None)\n",
            "  124112200085248: TensorSpec(shape=(), dtype=tf.resource, name=None)\n",
            "  124112200085776: TensorSpec(shape=(), dtype=tf.resource, name=None)\n",
            "  124112200085600: TensorSpec(shape=(), dtype=tf.resource, name=None)\n",
            "  124109840705216: TensorSpec(shape=(), dtype=tf.resource, name=None)\n",
            "  124112200084544: TensorSpec(shape=(), dtype=tf.resource, name=None)\n",
            "  124112200085072: TensorSpec(shape=(), dtype=tf.resource, name=None)\n",
            "  124112200084896: TensorSpec(shape=(), dtype=tf.resource, name=None)\n",
            "  124112200084720: TensorSpec(shape=(), dtype=tf.resource, name=None)\n",
            "  124109840704864: TensorSpec(shape=(), dtype=tf.resource, name=None)\n",
            "  124109840704688: TensorSpec(shape=(), dtype=tf.resource, name=None)\n",
            "  124109840704512: TensorSpec(shape=(), dtype=tf.resource, name=None)\n",
            "  124109840704336: TensorSpec(shape=(), dtype=tf.resource, name=None)\n",
            "  124109840705040: TensorSpec(shape=(), dtype=tf.resource, name=None)\n",
            "  124112200084368: TensorSpec(shape=(), dtype=tf.resource, name=None)\n",
            "  124112200084192: TensorSpec(shape=(), dtype=tf.resource, name=None)\n",
            "  124112200084016: TensorSpec(shape=(), dtype=tf.resource, name=None)\n",
            "  124112200083840: TensorSpec(shape=(), dtype=tf.resource, name=None)\n",
            "  124109840704160: TensorSpec(shape=(), dtype=tf.resource, name=None)\n",
            "  124109840703104: TensorSpec(shape=(), dtype=tf.resource, name=None)\n",
            "  124112200083488: TensorSpec(shape=(), dtype=tf.resource, name=None)\n",
            "  124112200083312: TensorSpec(shape=(), dtype=tf.resource, name=None)\n",
            "  124112200083136: TensorSpec(shape=(), dtype=tf.resource, name=None)\n",
            "  124112200083664: TensorSpec(shape=(), dtype=tf.resource, name=None)\n",
            "  124109840702928: TensorSpec(shape=(), dtype=tf.resource, name=None)\n",
            "  124112200082608: TensorSpec(shape=(), dtype=tf.resource, name=None)\n",
            "  124112200082432: TensorSpec(shape=(), dtype=tf.resource, name=None)\n",
            "  124112200082960: TensorSpec(shape=(), dtype=tf.resource, name=None)\n",
            "  124112200082784: TensorSpec(shape=(), dtype=tf.resource, name=None)\n",
            "  124109840703984: TensorSpec(shape=(), dtype=tf.resource, name=None)\n",
            "  124109840703808: TensorSpec(shape=(), dtype=tf.resource, name=None)\n",
            "  124109840703632: TensorSpec(shape=(), dtype=tf.resource, name=None)\n",
            "  124109840703456: TensorSpec(shape=(), dtype=tf.resource, name=None)\n",
            "  124109840702752: TensorSpec(shape=(), dtype=tf.resource, name=None)\n",
            "  124112200082256: TensorSpec(shape=(), dtype=tf.resource, name=None)\n",
            "  124112200082080: TensorSpec(shape=(), dtype=tf.resource, name=None)\n",
            "  124112200081904: TensorSpec(shape=(), dtype=tf.resource, name=None)\n",
            "  124112200081728: TensorSpec(shape=(), dtype=tf.resource, name=None)\n",
            "  124109840703280: TensorSpec(shape=(), dtype=tf.resource, name=None)\n",
            "  124109840702576: TensorSpec(shape=(), dtype=tf.resource, name=None)\n",
            "  124112200081552: TensorSpec(shape=(), dtype=tf.resource, name=None)\n",
            "  124112200081376: TensorSpec(shape=(), dtype=tf.resource, name=None)\n",
            "  124112200081200: TensorSpec(shape=(), dtype=tf.resource, name=None)\n",
            "  124112200081024: TensorSpec(shape=(), dtype=tf.resource, name=None)\n",
            "  124109840702400: TensorSpec(shape=(), dtype=tf.resource, name=None)\n",
            "  124112200080672: TensorSpec(shape=(), dtype=tf.resource, name=None)\n",
            "  124112200080496: TensorSpec(shape=(), dtype=tf.resource, name=None)\n",
            "  124112200080320: TensorSpec(shape=(), dtype=tf.resource, name=None)\n",
            "  124112200080848: TensorSpec(shape=(), dtype=tf.resource, name=None)\n",
            "  124109840702048: TensorSpec(shape=(), dtype=tf.resource, name=None)\n",
            "  124109840701872: TensorSpec(shape=(), dtype=tf.resource, name=None)\n",
            "  124109840701696: TensorSpec(shape=(), dtype=tf.resource, name=None)\n",
            "  124109840701520: TensorSpec(shape=(), dtype=tf.resource, name=None)\n",
            "  124109840702224: TensorSpec(shape=(), dtype=tf.resource, name=None)\n",
            "  124112200079792: TensorSpec(shape=(), dtype=tf.resource, name=None)\n",
            "  124112200079616: TensorSpec(shape=(), dtype=tf.resource, name=None)\n",
            "  124112200080144: TensorSpec(shape=(), dtype=tf.resource, name=None)\n",
            "  124112200079968: TensorSpec(shape=(), dtype=tf.resource, name=None)\n",
            "  124109840701344: TensorSpec(shape=(), dtype=tf.resource, name=None)\n",
            "  124109840701168: TensorSpec(shape=(), dtype=tf.resource, name=None)\n",
            "  124112200079088: TensorSpec(shape=(), dtype=tf.resource, name=None)\n",
            "  124112200078912: TensorSpec(shape=(), dtype=tf.resource, name=None)\n",
            "  124112200079440: TensorSpec(shape=(), dtype=tf.resource, name=None)\n",
            "  124112200079264: TensorSpec(shape=(), dtype=tf.resource, name=None)\n",
            "  124109840700992: TensorSpec(shape=(), dtype=tf.resource, name=None)\n",
            "  124112200078736: TensorSpec(shape=(), dtype=tf.resource, name=None)\n",
            "  124112200078560: TensorSpec(shape=(), dtype=tf.resource, name=None)\n",
            "  124112200078384: TensorSpec(shape=(), dtype=tf.resource, name=None)\n",
            "  124112200078208: TensorSpec(shape=(), dtype=tf.resource, name=None)\n",
            "  124109840700288: TensorSpec(shape=(), dtype=tf.resource, name=None)\n",
            "  124109840700112: TensorSpec(shape=(), dtype=tf.resource, name=None)\n",
            "  124109840700640: TensorSpec(shape=(), dtype=tf.resource, name=None)\n",
            "  124109840700464: TensorSpec(shape=(), dtype=tf.resource, name=None)\n",
            "  124109840700816: TensorSpec(shape=(), dtype=tf.resource, name=None)\n",
            "  124112200077856: TensorSpec(shape=(), dtype=tf.resource, name=None)\n",
            "  124112200077680: TensorSpec(shape=(), dtype=tf.resource, name=None)\n",
            "  124112200077504: TensorSpec(shape=(), dtype=tf.resource, name=None)\n",
            "  124112200078032: TensorSpec(shape=(), dtype=tf.resource, name=None)\n",
            "  124109840699936: TensorSpec(shape=(), dtype=tf.resource, name=None)\n",
            "  124109840699760: TensorSpec(shape=(), dtype=tf.resource, name=None)\n",
            "  124112200076976: TensorSpec(shape=(), dtype=tf.resource, name=None)\n",
            "  124112200076800: TensorSpec(shape=(), dtype=tf.resource, name=None)\n",
            "  124112200077328: TensorSpec(shape=(), dtype=tf.resource, name=None)\n",
            "  124112200077152: TensorSpec(shape=(), dtype=tf.resource, name=None)\n",
            "  124109840699584: TensorSpec(shape=(), dtype=tf.resource, name=None)\n",
            "  124112200076096: TensorSpec(shape=(), dtype=tf.resource, name=None)\n",
            "  124112200076624: TensorSpec(shape=(), dtype=tf.resource, name=None)\n",
            "  124112200076448: TensorSpec(shape=(), dtype=tf.resource, name=None)\n",
            "  124112200076272: TensorSpec(shape=(), dtype=tf.resource, name=None)\n",
            "  124109840699232: TensorSpec(shape=(), dtype=tf.resource, name=None)\n",
            "  124109840699056: TensorSpec(shape=(), dtype=tf.resource, name=None)\n",
            "  124109840698880: TensorSpec(shape=(), dtype=tf.resource, name=None)\n",
            "  124109840698704: TensorSpec(shape=(), dtype=tf.resource, name=None)\n",
            "  124109840699408: TensorSpec(shape=(), dtype=tf.resource, name=None)\n",
            "  124112200075920: TensorSpec(shape=(), dtype=tf.resource, name=None)\n",
            "  124112200075744: TensorSpec(shape=(), dtype=tf.resource, name=None)\n",
            "  124112200075568: TensorSpec(shape=(), dtype=tf.resource, name=None)\n",
            "  124112200075392: TensorSpec(shape=(), dtype=tf.resource, name=None)\n",
            "  124109840698528: TensorSpec(shape=(), dtype=tf.resource, name=None)\n",
            "  124109840698352: TensorSpec(shape=(), dtype=tf.resource, name=None)\n",
            "  124112200075040: TensorSpec(shape=(), dtype=tf.resource, name=None)\n",
            "  124112200074864: TensorSpec(shape=(), dtype=tf.resource, name=None)\n",
            "  124112200074688: TensorSpec(shape=(), dtype=tf.resource, name=None)\n",
            "  124112200075216: TensorSpec(shape=(), dtype=tf.resource, name=None)\n",
            "  124109840698176: TensorSpec(shape=(), dtype=tf.resource, name=None)\n",
            "  124112200074160: TensorSpec(shape=(), dtype=tf.resource, name=None)\n",
            "  124112200073984: TensorSpec(shape=(), dtype=tf.resource, name=None)\n",
            "  124112200074512: TensorSpec(shape=(), dtype=tf.resource, name=None)\n",
            "  124112200074336: TensorSpec(shape=(), dtype=tf.resource, name=None)\n",
            "  124109840697824: TensorSpec(shape=(), dtype=tf.resource, name=None)\n",
            "  124109840697648: TensorSpec(shape=(), dtype=tf.resource, name=None)\n",
            "  124109840697472: TensorSpec(shape=(), dtype=tf.resource, name=None)\n",
            "  124109840697296: TensorSpec(shape=(), dtype=tf.resource, name=None)\n",
            "  124109840698000: TensorSpec(shape=(), dtype=tf.resource, name=None)\n",
            "  124112200073808: TensorSpec(shape=(), dtype=tf.resource, name=None)\n",
            "  124112200073632: TensorSpec(shape=(), dtype=tf.resource, name=None)\n",
            "  124112200073456: TensorSpec(shape=(), dtype=tf.resource, name=None)\n",
            "  124112200073280: TensorSpec(shape=(), dtype=tf.resource, name=None)\n",
            "  124109840697120: TensorSpec(shape=(), dtype=tf.resource, name=None)\n",
            "  124109840696944: TensorSpec(shape=(), dtype=tf.resource, name=None)\n",
            "  124112067591888: TensorSpec(shape=(), dtype=tf.resource, name=None)\n",
            "  124112067591712: TensorSpec(shape=(), dtype=tf.resource, name=None)\n",
            "  124112067591536: TensorSpec(shape=(), dtype=tf.resource, name=None)\n",
            "  124112067591360: TensorSpec(shape=(), dtype=tf.resource, name=None)\n",
            "  124109840696768: TensorSpec(shape=(), dtype=tf.resource, name=None)\n",
            "  124112067591008: TensorSpec(shape=(), dtype=tf.resource, name=None)\n",
            "  124112067590832: TensorSpec(shape=(), dtype=tf.resource, name=None)\n",
            "  124112067590656: TensorSpec(shape=(), dtype=tf.resource, name=None)\n",
            "  124112067591184: TensorSpec(shape=(), dtype=tf.resource, name=None)\n",
            "  124109840696416: TensorSpec(shape=(), dtype=tf.resource, name=None)\n",
            "  124109840696240: TensorSpec(shape=(), dtype=tf.resource, name=None)\n",
            "  124109840696064: TensorSpec(shape=(), dtype=tf.resource, name=None)\n",
            "  124109840695888: TensorSpec(shape=(), dtype=tf.resource, name=None)\n",
            "  124109840696592: TensorSpec(shape=(), dtype=tf.resource, name=None)\n",
            "  124112067590128: TensorSpec(shape=(), dtype=tf.resource, name=None)\n",
            "  124112067589952: TensorSpec(shape=(), dtype=tf.resource, name=None)\n",
            "  124112067590480: TensorSpec(shape=(), dtype=tf.resource, name=None)\n",
            "  124112067590304: TensorSpec(shape=(), dtype=tf.resource, name=None)\n",
            "  124109840695712: TensorSpec(shape=(), dtype=tf.resource, name=None)\n",
            "  124109840695536: TensorSpec(shape=(), dtype=tf.resource, name=None)\n",
            "  124112067589424: TensorSpec(shape=(), dtype=tf.resource, name=None)\n",
            "  124112067589248: TensorSpec(shape=(), dtype=tf.resource, name=None)\n",
            "  124112067589776: TensorSpec(shape=(), dtype=tf.resource, name=None)\n",
            "  124112067589600: TensorSpec(shape=(), dtype=tf.resource, name=None)\n",
            "  124109840695360: TensorSpec(shape=(), dtype=tf.resource, name=None)\n",
            "  124112067589072: TensorSpec(shape=(), dtype=tf.resource, name=None)\n",
            "  124112067588896: TensorSpec(shape=(), dtype=tf.resource, name=None)\n",
            "  124112067588720: TensorSpec(shape=(), dtype=tf.resource, name=None)\n",
            "  124112067588544: TensorSpec(shape=(), dtype=tf.resource, name=None)\n",
            "  124109840350752: TensorSpec(shape=(), dtype=tf.resource, name=None)\n",
            "  124109840350576: TensorSpec(shape=(), dtype=tf.resource, name=None)\n",
            "  124109840350400: TensorSpec(shape=(), dtype=tf.resource, name=None)\n",
            "  124109840350224: TensorSpec(shape=(), dtype=tf.resource, name=None)\n",
            "  124109840350928: TensorSpec(shape=(), dtype=tf.resource, name=None)\n",
            "  124112067588192: TensorSpec(shape=(), dtype=tf.resource, name=None)\n",
            "  124112067588016: TensorSpec(shape=(), dtype=tf.resource, name=None)\n",
            "  124112067587840: TensorSpec(shape=(), dtype=tf.resource, name=None)\n",
            "  124112067588368: TensorSpec(shape=(), dtype=tf.resource, name=None)\n",
            "  124109840349872: TensorSpec(shape=(), dtype=tf.resource, name=None)\n",
            "  124109840350048: TensorSpec(shape=(), dtype=tf.resource, name=None)\n",
            "  124109840851968: TensorSpec(shape=(), dtype=tf.resource, name=None)\n",
            "  124109840851440: TensorSpec(shape=(), dtype=tf.resource, name=None)\n",
            "  124109840852672: TensorSpec(shape=(), dtype=tf.resource, name=None)\n",
            "  124109840852320: TensorSpec(shape=(), dtype=tf.resource, name=None)\n",
            "  124109840349696: TensorSpec(shape=(), dtype=tf.resource, name=None)\n",
            "  124112067587136: TensorSpec(shape=(), dtype=tf.resource, name=None)\n",
            "  124112067587664: TensorSpec(shape=(), dtype=tf.resource, name=None)\n",
            "  124112067587488: TensorSpec(shape=(), dtype=tf.resource, name=None)\n",
            "  124112067587312: TensorSpec(shape=(), dtype=tf.resource, name=None)\n",
            "  124109840349520: TensorSpec(shape=(), dtype=tf.resource, name=None)\n",
            "  124112067586960: TensorSpec(shape=(), dtype=tf.resource, name=None)\n",
            "  124112067586784: TensorSpec(shape=(), dtype=tf.resource, name=None)\n",
            "  124112067586608: TensorSpec(shape=(), dtype=tf.resource, name=None)\n",
            "  124112067586432: TensorSpec(shape=(), dtype=tf.resource, name=None)\n",
            "  124109840349168: TensorSpec(shape=(), dtype=tf.resource, name=None)\n",
            "  124109840348992: TensorSpec(shape=(), dtype=tf.resource, name=None)\n",
            "  124109840348816: TensorSpec(shape=(), dtype=tf.resource, name=None)\n",
            "  124109840348640: TensorSpec(shape=(), dtype=tf.resource, name=None)\n",
            "  124109840349344: TensorSpec(shape=(), dtype=tf.resource, name=None)\n",
            "  124112067586080: TensorSpec(shape=(), dtype=tf.resource, name=None)\n",
            "  124112067585904: TensorSpec(shape=(), dtype=tf.resource, name=None)\n",
            "  124112067585728: TensorSpec(shape=(), dtype=tf.resource, name=None)\n",
            "  124112067586256: TensorSpec(shape=(), dtype=tf.resource, name=None)\n",
            "  124109840348464: TensorSpec(shape=(), dtype=tf.resource, name=None)\n",
            "  124109840348288: TensorSpec(shape=(), dtype=tf.resource, name=None)\n",
            "  124112067585200: TensorSpec(shape=(), dtype=tf.resource, name=None)\n",
            "  124112067585024: TensorSpec(shape=(), dtype=tf.resource, name=None)\n",
            "  124112067585552: TensorSpec(shape=(), dtype=tf.resource, name=None)\n",
            "  124112067585376: TensorSpec(shape=(), dtype=tf.resource, name=None)\n",
            "  124109840348112: TensorSpec(shape=(), dtype=tf.resource, name=None)\n",
            "  124112067584848: TensorSpec(shape=(), dtype=tf.resource, name=None)\n",
            "  124112067584672: TensorSpec(shape=(), dtype=tf.resource, name=None)\n",
            "  124112067584496: TensorSpec(shape=(), dtype=tf.resource, name=None)\n",
            "  124112067584320: TensorSpec(shape=(), dtype=tf.resource, name=None)\n",
            "  124109840347760: TensorSpec(shape=(), dtype=tf.resource, name=None)\n",
            "  124109840347584: TensorSpec(shape=(), dtype=tf.resource, name=None)\n",
            "  124109840347408: TensorSpec(shape=(), dtype=tf.resource, name=None)\n",
            "  124109840347232: TensorSpec(shape=(), dtype=tf.resource, name=None)\n",
            "  124109840347936: TensorSpec(shape=(), dtype=tf.resource, name=None)\n",
            "  124112067584144: TensorSpec(shape=(), dtype=tf.resource, name=None)\n",
            "  124112067583968: TensorSpec(shape=(), dtype=tf.resource, name=None)\n",
            "  124112067583792: TensorSpec(shape=(), dtype=tf.resource, name=None)\n",
            "  124112067583616: TensorSpec(shape=(), dtype=tf.resource, name=None)\n",
            "  124109840347056: TensorSpec(shape=(), dtype=tf.resource, name=None)\n",
            "  124109840345824: TensorSpec(shape=(), dtype=tf.resource, name=None)\n",
            "  124112067583264: TensorSpec(shape=(), dtype=tf.resource, name=None)\n",
            "  124112067583088: TensorSpec(shape=(), dtype=tf.resource, name=None)\n",
            "  124112067582912: TensorSpec(shape=(), dtype=tf.resource, name=None)\n",
            "  124112067583440: TensorSpec(shape=(), dtype=tf.resource, name=None)\n",
            "  124109840345648: TensorSpec(shape=(), dtype=tf.resource, name=None)\n",
            "  124112067582384: TensorSpec(shape=(), dtype=tf.resource, name=None)\n",
            "  124112067582208: TensorSpec(shape=(), dtype=tf.resource, name=None)\n",
            "  124112067582736: TensorSpec(shape=(), dtype=tf.resource, name=None)\n",
            "  124112067582560: TensorSpec(shape=(), dtype=tf.resource, name=None)\n",
            "  124109840346704: TensorSpec(shape=(), dtype=tf.resource, name=None)\n",
            "  124109840346528: TensorSpec(shape=(), dtype=tf.resource, name=None)\n",
            "  124109840346352: TensorSpec(shape=(), dtype=tf.resource, name=None)\n",
            "  124109840346176: TensorSpec(shape=(), dtype=tf.resource, name=None)\n",
            "  124109840346880: TensorSpec(shape=(), dtype=tf.resource, name=None)\n",
            "  124112067582032: TensorSpec(shape=(), dtype=tf.resource, name=None)\n",
            "  124112067581856: TensorSpec(shape=(), dtype=tf.resource, name=None)\n",
            "  124112067581680: TensorSpec(shape=(), dtype=tf.resource, name=None)\n",
            "  124112067581504: TensorSpec(shape=(), dtype=tf.resource, name=None)\n",
            "  124109840346000: TensorSpec(shape=(), dtype=tf.resource, name=None)\n",
            "  124109840345472: TensorSpec(shape=(), dtype=tf.resource, name=None)\n",
            "  124112067581328: TensorSpec(shape=(), dtype=tf.resource, name=None)\n",
            "  124112067581152: TensorSpec(shape=(), dtype=tf.resource, name=None)\n",
            "  124112067580976: TensorSpec(shape=(), dtype=tf.resource, name=None)\n",
            "  124112067580800: TensorSpec(shape=(), dtype=tf.resource, name=None)\n",
            "  124109840345296: TensorSpec(shape=(), dtype=tf.resource, name=None)\n",
            "  124112067580448: TensorSpec(shape=(), dtype=tf.resource, name=None)\n",
            "  124112067580272: TensorSpec(shape=(), dtype=tf.resource, name=None)\n",
            "  124112067580096: TensorSpec(shape=(), dtype=tf.resource, name=None)\n",
            "  124112067580624: TensorSpec(shape=(), dtype=tf.resource, name=None)\n",
            "  124109840344944: TensorSpec(shape=(), dtype=tf.resource, name=None)\n",
            "  124109840344768: TensorSpec(shape=(), dtype=tf.resource, name=None)\n",
            "  124109840344592: TensorSpec(shape=(), dtype=tf.resource, name=None)\n",
            "  124109840344416: TensorSpec(shape=(), dtype=tf.resource, name=None)\n",
            "  124109840345120: TensorSpec(shape=(), dtype=tf.resource, name=None)\n",
            "  124112067579392: TensorSpec(shape=(), dtype=tf.resource, name=None)\n",
            "  124112067579920: TensorSpec(shape=(), dtype=tf.resource, name=None)\n",
            "  124112067579744: TensorSpec(shape=(), dtype=tf.resource, name=None)\n",
            "  124112067579568: TensorSpec(shape=(), dtype=tf.resource, name=None)\n",
            "  124109840344240: TensorSpec(shape=(), dtype=tf.resource, name=None)\n",
            "  124109840344064: TensorSpec(shape=(), dtype=tf.resource, name=None)\n",
            "  124112067578688: TensorSpec(shape=(), dtype=tf.resource, name=None)\n",
            "  124112067579216: TensorSpec(shape=(), dtype=tf.resource, name=None)\n",
            "  124112067579040: TensorSpec(shape=(), dtype=tf.resource, name=None)\n",
            "  124112067578864: TensorSpec(shape=(), dtype=tf.resource, name=None)\n",
            "  124109840343888: TensorSpec(shape=(), dtype=tf.resource, name=None)\n",
            "  124112067578512: TensorSpec(shape=(), dtype=tf.resource, name=None)\n",
            "  124112067578336: TensorSpec(shape=(), dtype=tf.resource, name=None)\n",
            "  124112067578160: TensorSpec(shape=(), dtype=tf.resource, name=None)\n",
            "  124112067577984: TensorSpec(shape=(), dtype=tf.resource, name=None)\n",
            "  124109840343536: TensorSpec(shape=(), dtype=tf.resource, name=None)\n",
            "  124109840343360: TensorSpec(shape=(), dtype=tf.resource, name=None)\n",
            "  124109840343184: TensorSpec(shape=(), dtype=tf.resource, name=None)\n",
            "  124109840343008: TensorSpec(shape=(), dtype=tf.resource, name=None)\n",
            "  124109840343712: TensorSpec(shape=(), dtype=tf.resource, name=None)\n",
            "  124112067577632: TensorSpec(shape=(), dtype=tf.resource, name=None)\n",
            "  124112067577456: TensorSpec(shape=(), dtype=tf.resource, name=None)\n",
            "  124112067577280: TensorSpec(shape=(), dtype=tf.resource, name=None)\n",
            "  124112067577808: TensorSpec(shape=(), dtype=tf.resource, name=None)\n",
            "  124109840342832: TensorSpec(shape=(), dtype=tf.resource, name=None)\n",
            "  124109840342656: TensorSpec(shape=(), dtype=tf.resource, name=None)\n",
            "  124112067576752: TensorSpec(shape=(), dtype=tf.resource, name=None)\n",
            "  124112067576576: TensorSpec(shape=(), dtype=tf.resource, name=None)\n",
            "  124112067577104: TensorSpec(shape=(), dtype=tf.resource, name=None)\n",
            "  124112067576928: TensorSpec(shape=(), dtype=tf.resource, name=None)\n",
            "  124109840342480: TensorSpec(shape=(), dtype=tf.resource, name=None)\n",
            "  124112067576400: TensorSpec(shape=(), dtype=tf.resource, name=None)\n",
            "  124112067576224: TensorSpec(shape=(), dtype=tf.resource, name=None)\n",
            "  124112067576048: TensorSpec(shape=(), dtype=tf.resource, name=None)\n",
            "  124112067575872: TensorSpec(shape=(), dtype=tf.resource, name=None)\n",
            "  124109840342128: TensorSpec(shape=(), dtype=tf.resource, name=None)\n",
            "  124109840341952: TensorSpec(shape=(), dtype=tf.resource, name=None)\n",
            "  124109840341776: TensorSpec(shape=(), dtype=tf.resource, name=None)\n",
            "  124109840341600: TensorSpec(shape=(), dtype=tf.resource, name=None)\n",
            "  124109840342304: TensorSpec(shape=(), dtype=tf.resource, name=None)\n",
            "  124109840858832: TensorSpec(shape=(), dtype=tf.resource, name=None)\n",
            "  124109840858656: TensorSpec(shape=(), dtype=tf.resource, name=None)\n",
            "  124109840858480: TensorSpec(shape=(), dtype=tf.resource, name=None)\n",
            "  124109840858304: TensorSpec(shape=(), dtype=tf.resource, name=None)\n",
            "  124109840341424: TensorSpec(shape=(), dtype=tf.resource, name=None)\n",
            "  124109840341248: TensorSpec(shape=(), dtype=tf.resource, name=None)\n",
            "  124109840857952: TensorSpec(shape=(), dtype=tf.resource, name=None)\n",
            "  124109840857600: TensorSpec(shape=(), dtype=tf.resource, name=None)\n",
            "  124109840857248: TensorSpec(shape=(), dtype=tf.resource, name=None)\n",
            "  124109840858128: TensorSpec(shape=(), dtype=tf.resource, name=None)\n",
            "  124109840281520: TensorSpec(shape=(), dtype=tf.resource, name=None)\n",
            "  124109840281344: TensorSpec(shape=(), dtype=tf.resource, name=None)\n",
            "  124109840281168: TensorSpec(shape=(), dtype=tf.resource, name=None)\n",
            "  124109840280992: TensorSpec(shape=(), dtype=tf.resource, name=None)\n"
          ]
        }
      ],
      "source": [
        "sig = model.signatures['serving_default']\n",
        "print(sig.pretty_printed_signature())"
      ]
    },
    {
      "cell_type": "markdown",
      "metadata": {
        "id": "M4Xny1ANomi4"
      },
      "source": [
        "To run this signature on the video you need to add the outer `batch` dimension to the video first."
      ]
    },
    {
      "cell_type": "code",
      "execution_count": 12,
      "metadata": {
        "colab": {
          "base_uri": "https://localhost:8080/",
          "height": 159
        },
        "id": "LBOFEDG1XvZE",
        "outputId": "350acb8a-4b0e-4851-c1dd-fc6bd3af60db"
      },
      "outputs": [
        {
          "name": "stderr",
          "output_type": "stream",
          "text": [
            "WARNING: All log messages before absl::InitializeLog() is called are written to STDERR\n",
            "I0000 00:00:1725272791.440456   45894 service.cc:146] XLA service 0x70e024022810 initialized for platform Host (this does not guarantee that XLA will be used). Devices:\n",
            "I0000 00:00:1725272791.440478   45894 service.cc:154]   StreamExecutor device (0): Host, Default Version\n",
            "I0000 00:00:1725272791.446404   45894 device_compiler.h:188] Compiled cluster using XLA!  This line is logged at most once for the lifetime of the process.\n"
          ]
        }
      ],
      "source": [
        "#warmup\n",
        "sig(image = jumpingjack[tf.newaxis, :1]);"
      ]
    },
    {
      "cell_type": "code",
      "execution_count": 13,
      "metadata": {
        "colab": {
          "base_uri": "https://localhost:8080/",
          "height": 124
        },
        "id": "jCeW3KycVbGn",
        "outputId": "af209375-3fc6-4c0e-9fa8-959965418661"
      },
      "outputs": [
        {
          "name": "stdout",
          "output_type": "stream",
          "text": [
            "(600,)\n",
            "\n",
            "CPU times: user 11.6 s, sys: 170 ms, total: 11.8 s\n",
            "Wall time: 5.96 s\n"
          ]
        }
      ],
      "source": [
        "%%time\n",
        "logits = sig(image = jumpingjack[tf.newaxis, ...])\n",
        "logits = logits['classifier_head'][0]\n",
        "\n",
        "print(logits.shape)\n",
        "print()"
      ]
    },
    {
      "cell_type": "markdown",
      "metadata": {
        "id": "AE8doqkPpxED"
      },
      "source": [
        "Define a `get_top_k` function that packages the above output processing for later."
      ]
    },
    {
      "cell_type": "code",
      "execution_count": 14,
      "metadata": {
        "id": "OozPNO6LvZ00"
      },
      "outputs": [],
      "source": [
        "#@title\n",
        "# Get top_k labels and probabilities\n",
        "def get_top_k(probs, k=5, label_map=KINETICS_600_LABELS):\n",
        "  \"\"\"Outputs the top k model labels and probabilities on the given video.\n",
        "\n",
        "  Args:\n",
        "    probs: probability tensor of shape (num_frames, num_classes) that represents\n",
        "      the probability of each class on each frame.\n",
        "    k: the number of top predictions to select.\n",
        "    label_map: a list of labels to map logit indices to label strings.\n",
        "\n",
        "  Returns:\n",
        "    a tuple of the top-k labels and probabilities.\n",
        "  \"\"\"\n",
        "  # Sort predictions to find top_k\n",
        "  top_predictions = tf.argsort(probs, axis=-1, direction='DESCENDING')[:k]\n",
        "  # collect the labels of top_k predictions\n",
        "  top_labels = tf.gather(label_map, top_predictions, axis=-1)\n",
        "  # decode lablels\n",
        "  top_labels = [label.decode('utf8') for label in top_labels.numpy()]\n",
        "  # top_k probabilities of the predictions\n",
        "  top_probs = tf.gather(probs, top_predictions, axis=-1).numpy()\n",
        "  return tuple(zip(top_labels, top_probs))"
      ]
    },
    {
      "cell_type": "markdown",
      "metadata": {
        "id": "kTfKMT29pP_Z"
      },
      "source": [
        "Convert the `logits` to probabilities, and look up the top 5 classes for the video. The model confirms that the video is probably of `jumping jacks`."
      ]
    },
    {
      "cell_type": "code",
      "execution_count": 15,
      "metadata": {
        "id": "Z-SrNGsGV5Mt"
      },
      "outputs": [
        {
          "name": "stdout",
          "output_type": "stream",
          "text": [
            "jumping jacks       : 0.834\n",
            "zumba               : 0.008\n",
            "lunge               : 0.003\n",
            "doing aerobics      : 0.003\n",
            "polishing metal     : 0.002\n"
          ]
        }
      ],
      "source": [
        "probs = tf.nn.softmax(logits, axis=-1)\n",
        "for label, p in get_top_k(probs):\n",
        "  print(f'{label:20s}: {p:.3f}')"
      ]
    },
    {
      "cell_type": "markdown",
      "metadata": {
        "id": "ltdijoQpqjxZ"
      },
      "source": [
        "### The streaming model"
      ]
    },
    {
      "cell_type": "markdown",
      "metadata": {
        "id": "9dqdUPQXq45b"
      },
      "source": [
        "The previous section used a model that runs over a whole video. Often when processing a video you don't want a single prediction at the end, you want to update predictions frame by frame. The `stream` versions of the model allow you to do this.\n",
        "\n",
        "Load the `stream` version of the model."
      ]
    },
    {
      "cell_type": "code",
      "execution_count": 16,
      "metadata": {
        "id": "mxt0hRXFZkAM"
      },
      "outputs": [
        {
          "name": "stderr",
          "output_type": "stream",
          "text": [
            "WARNING:absl:`state/b4/l2/pool_buffer` is not a valid tf.function parameter name. Sanitizing to `state_b4_l2_pool_buffer`.\n",
            "WARNING:absl:`state/b1/l2/pool_buffer` is not a valid tf.function parameter name. Sanitizing to `state_b1_l2_pool_buffer`.\n",
            "WARNING:absl:`state/b1/l1/pool_frame_count` is not a valid tf.function parameter name. Sanitizing to `state_b1_l1_pool_frame_count`.\n",
            "WARNING:absl:`state/b1/l0/pool_frame_count` is not a valid tf.function parameter name. Sanitizing to `state_b1_l0_pool_frame_count`.\n",
            "WARNING:absl:`state/b2/l2/pool_buffer` is not a valid tf.function parameter name. Sanitizing to `state_b2_l2_pool_buffer`.\n"
          ]
        },
        {
          "name": "stdout",
          "output_type": "stream",
          "text": [
            "CPU times: user 16.7 s, sys: 736 ms, total: 17.4 s\n",
            "Wall time: 17.4 s\n"
          ]
        }
      ],
      "source": [
        "%%time\n",
        "id = 'a2'\n",
        "mode = 'stream'\n",
        "version = '3'\n",
        "hub_url = f'https://tfhub.dev/tensorflow/movinet/{id}/{mode}/kinetics-600/classification/{version}'\n",
        "model = hub.load(hub_url)"
      ]
    },
    {
      "cell_type": "markdown",
      "metadata": {
        "id": "pDswtsGgsYGS"
      },
      "source": [
        "Using this model is slightly more complex than the `base` model. You have to keep track of the internal state of the model's RNNs."
      ]
    },
    {
      "cell_type": "code",
      "execution_count": 17,
      "metadata": {
        "id": "0fM_Vb1VsbDm"
      },
      "outputs": [
        {
          "data": {
            "text/plain": [
              "['call', 'init_states']"
            ]
          },
          "execution_count": 17,
          "metadata": {},
          "output_type": "execute_result"
        }
      ],
      "source": [
        "list(model.signatures.keys())"
      ]
    },
    {
      "cell_type": "markdown",
      "metadata": {
        "id": "ojr1_iYCtPvp"
      },
      "source": [
        "The `init_states` signature takes the video's **shape** `(batch, frames, height, width, colors)` as input, and returns a large dictionary of tensors containing the initial RNN states:"
      ]
    },
    {
      "cell_type": "code",
      "execution_count": 18,
      "metadata": {
        "id": "67loYFGpo_RP"
      },
      "outputs": [
        {
          "name": "stdout",
          "output_type": "stream",
          "text": [
            "Input Parameters:.\n",
            "  input_shape (KEYWORD_ONLY): TensorSpec(shape=(5,), dtype=tf.int32, name='input_shape').\n",
            "Output Type:.\n",
            "  Dict[['state/b4/l2/pool_buffer', TensorSpec(shape=(None, 1, 1, 1, 384), dtype=tf.float32, name='state/b4/l2/pool_buffer')], ['state/b1/l2/pool_buffer', TensorSpec(shape=(None, 1, 1, 1, 96), dtype=tf.float32, name='state/b1/l2/pool_buffer')], ['state/b1/l1/pool_frame_count', TensorSpec(shape=(1,), dtype=tf.int32, name='state/b1/l1/pool_frame_count')], ['state/b1/l0/pool_frame_count', TensorSpec(shape=(1,), dtype=tf.int32, name='state/b1/l0/pool_frame_count')], ['state/b2/l2/pool_buffer', TensorSpec(shape=(None, 1, 1, 1, 240), dtype=tf.float32, name='state/b2/l2/pool_buffer')], ['state/b4/l0/pool_frame_count', TensorSpec(shape=(1,), dtype=tf.int32, name='state/b4/l0/pool_frame_count')], ['state/b3/l1/pool_frame_count', TensorSpec(shape=(1,), dtype=tf.int32, name='state/b3/l1/pool_frame_count')], ['state/b3/l4/pool_buffer', TensorSpec(shape=(None, 1, 1, 1, 144), dtype=tf.float32, name='state/b3/l4/pool_buffer')], ['state/b3/l3/pool_frame_count', TensorSpec(shape=(1,), dtype=tf.int32, name='state/b3/l3/pool_frame_count')], ['state/b3/l2/stream_buffer', TensorSpec(shape=(None, 2, None, None, 240), dtype=tf.float32, name='state/b3/l2/stream_buffer')], ['state/b1/l3/pool_buffer', TensorSpec(shape=(None, 1, 1, 1, 96), dtype=tf.float32, name='state/b1/l3/pool_buffer')], ['state/b4/l0/stream_buffer', TensorSpec(shape=(None, 4, None, None, 480), dtype=tf.float32, name='state/b4/l0/stream_buffer')], ['state/b1/l1/stream_buffer', TensorSpec(shape=(None, 2, None, None, 120), dtype=tf.float32, name='state/b1/l1/stream_buffer')], ['state/b1/l0/stream_buffer', TensorSpec(shape=(None, 2, None, None, 96), dtype=tf.float32, name='state/b1/l0/stream_buffer')], ['state/b3/l0/pool_buffer', TensorSpec(shape=(None, 1, 1, 1, 240), dtype=tf.float32, name='state/b3/l0/pool_buffer')], ['state/b2/l2/stream_buffer', TensorSpec(shape=(None, 2, None, None, 240), dtype=tf.float32, name='state/b2/l2/stream_buffer')], ['state/b2/l4/pool_buffer', TensorSpec(shape=(None, 1, 1, 1, 240), dtype=tf.float32, name='state/b2/l4/pool_buffer')], ['state/b1/l1/pool_buffer', TensorSpec(shape=(None, 1, 1, 1, 120), dtype=tf.float32, name='state/b1/l1/pool_buffer')], ['state/b3/l2/pool_frame_count', TensorSpec(shape=(1,), dtype=tf.int32, name='state/b3/l2/pool_frame_count')], ['state/b0/l2/stream_buffer', TensorSpec(shape=(None, 2, None, None, 64), dtype=tf.float32, name='state/b0/l2/stream_buffer')], ['state/b4/l1/pool_buffer', TensorSpec(shape=(None, 1, 1, 1, 384), dtype=tf.float32, name='state/b4/l1/pool_buffer')], ['state/b2/l0/pool_buffer', TensorSpec(shape=(None, 1, 1, 1, 240), dtype=tf.float32, name='state/b2/l0/pool_buffer')], ['state/b2/l4/stream_buffer', TensorSpec(shape=(None, 2, None, None, 240), dtype=tf.float32, name='state/b2/l4/stream_buffer')], ['state/b1/l4/stream_buffer', TensorSpec(shape=(None, 2, None, None, 120), dtype=tf.float32, name='state/b1/l4/stream_buffer')], ['state/b4/l5/pool_buffer', TensorSpec(shape=(None, 1, 1, 1, 480), dtype=tf.float32, name='state/b4/l5/pool_buffer')], ['state/b1/l4/pool_buffer', TensorSpec(shape=(None, 1, 1, 1, 120), dtype=tf.float32, name='state/b1/l4/pool_buffer')], ['state/b2/l3/stream_buffer', TensorSpec(shape=(None, 2, None, None, 192), dtype=tf.float32, name='state/b2/l3/stream_buffer')], ['state/b3/l1/stream_buffer', TensorSpec(shape=(None, 2, None, None, 240), dtype=tf.float32, name='state/b3/l1/stream_buffer')], ['state/b4/l3/pool_frame_count', TensorSpec(shape=(1,), dtype=tf.int32, name='state/b4/l3/pool_frame_count')], ['state/b3/l4/pool_frame_count', TensorSpec(shape=(1,), dtype=tf.int32, name='state/b3/l4/pool_frame_count')], ['state/head/pool_frame_count', TensorSpec(shape=(1,), dtype=tf.int32, name='state/head/pool_frame_count')], ['state/head/pool_buffer', TensorSpec(shape=(None, 1, 1, 1, 640), dtype=tf.float32, name='state/head/pool_buffer')], ['state/b1/l0/pool_buffer', TensorSpec(shape=(None, 1, 1, 1, 96), dtype=tf.float32, name='state/b1/l0/pool_buffer')], ['state/b3/l5/pool_buffer', TensorSpec(shape=(None, 1, 1, 1, 240), dtype=tf.float32, name='state/b3/l5/pool_buffer')], ['state/b0/l0/pool_buffer', TensorSpec(shape=(None, 1, 1, 1, 40), dtype=tf.float32, name='state/b0/l0/pool_buffer')], ['state/b1/l2/pool_frame_count', TensorSpec(shape=(1,), dtype=tf.int32, name='state/b1/l2/pool_frame_count')], ['state/b1/l2/stream_buffer', TensorSpec(shape=(None, 2, None, None, 96), dtype=tf.float32, name='state/b1/l2/stream_buffer')], ['state/b4/l6/pool_frame_count', TensorSpec(shape=(1,), dtype=tf.int32, name='state/b4/l6/pool_frame_count')], ['state/b0/l2/pool_frame_count', TensorSpec(shape=(1,), dtype=tf.int32, name='state/b0/l2/pool_frame_count')], ['state/b1/l3/pool_frame_count', TensorSpec(shape=(1,), dtype=tf.int32, name='state/b1/l3/pool_frame_count')], ['state/b0/l1/pool_buffer', TensorSpec(shape=(None, 1, 1, 1, 40), dtype=tf.float32, name='state/b0/l1/pool_buffer')], ['state/b4/l4/pool_frame_count', TensorSpec(shape=(1,), dtype=tf.int32, name='state/b4/l4/pool_frame_count')], ['state/b1/l4/pool_frame_count', TensorSpec(shape=(1,), dtype=tf.int32, name='state/b1/l4/pool_frame_count')], ['state/b2/l0/pool_frame_count', TensorSpec(shape=(1,), dtype=tf.int32, name='state/b2/l0/pool_frame_count')], ['state/b2/l1/pool_frame_count', TensorSpec(shape=(1,), dtype=tf.int32, name='state/b2/l1/pool_frame_count')], ['state/b3/l0/pool_frame_count', TensorSpec(shape=(1,), dtype=tf.int32, name='state/b3/l0/pool_frame_count')], ['state/b0/l2/pool_buffer', TensorSpec(shape=(None, 1, 1, 1, 64), dtype=tf.float32, name='state/b0/l2/pool_buffer')], ['state/b4/l5/pool_frame_count', TensorSpec(shape=(1,), dtype=tf.int32, name='state/b4/l5/pool_frame_count')], ['state/b4/l5/stream_buffer', TensorSpec(shape=(None, 2, None, None, 480), dtype=tf.float32, name='state/b4/l5/stream_buffer')], ['state/b3/l5/stream_buffer', TensorSpec(shape=(None, 2, None, None, 240), dtype=tf.float32, name='state/b3/l5/stream_buffer')], ['state/b2/l1/pool_buffer', TensorSpec(shape=(None, 1, 1, 1, 160), dtype=tf.float32, name='state/b2/l1/pool_buffer')], ['state/b0/l1/stream_buffer', TensorSpec(shape=(None, 2, None, None, 40), dtype=tf.float32, name='state/b0/l1/stream_buffer')], ['state/b3/l0/stream_buffer', TensorSpec(shape=(None, 4, None, None, 240), dtype=tf.float32, name='state/b3/l0/stream_buffer')], ['state/b3/l1/pool_buffer', TensorSpec(shape=(None, 1, 1, 1, 240), dtype=tf.float32, name='state/b3/l1/pool_buffer')], ['state/b2/l4/pool_frame_count', TensorSpec(shape=(1,), dtype=tf.int32, name='state/b2/l4/pool_frame_count')], ['state/b4/l1/pool_frame_count', TensorSpec(shape=(1,), dtype=tf.int32, name='state/b4/l1/pool_frame_count')], ['state/b1/l3/stream_buffer', TensorSpec(shape=(None, 2, None, None, 96), dtype=tf.float32, name='state/b1/l3/stream_buffer')], ['state/b4/l4/pool_buffer', TensorSpec(shape=(None, 1, 1, 1, 480), dtype=tf.float32, name='state/b4/l4/pool_buffer')], ['state/b2/l3/pool_frame_count', TensorSpec(shape=(1,), dtype=tf.int32, name='state/b2/l3/pool_frame_count')], ['state/b3/l2/pool_buffer', TensorSpec(shape=(None, 1, 1, 1, 240), dtype=tf.float32, name='state/b3/l2/pool_buffer')], ['state/b2/l0/stream_buffer', TensorSpec(shape=(None, 4, None, None, 240), dtype=tf.float32, name='state/b2/l0/stream_buffer')], ['state/b4/l0/pool_buffer', TensorSpec(shape=(None, 1, 1, 1, 480), dtype=tf.float32, name='state/b4/l0/pool_buffer')], ['state/b0/l1/pool_frame_count', TensorSpec(shape=(1,), dtype=tf.int32, name='state/b0/l1/pool_frame_count')], ['state/b4/l6/pool_buffer', TensorSpec(shape=(None, 1, 1, 1, 576), dtype=tf.float32, name='state/b4/l6/pool_buffer')], ['state/b2/l1/stream_buffer', TensorSpec(shape=(None, 2, None, None, 160), dtype=tf.float32, name='state/b2/l1/stream_buffer')], ['state/b4/l3/pool_buffer', TensorSpec(shape=(None, 1, 1, 1, 480), dtype=tf.float32, name='state/b4/l3/pool_buffer')], ['state/b2/l3/pool_buffer', TensorSpec(shape=(None, 1, 1, 1, 192), dtype=tf.float32, name='state/b2/l3/pool_buffer')], ['state/b3/l3/pool_buffer', TensorSpec(shape=(None, 1, 1, 1, 240), dtype=tf.float32, name='state/b3/l3/pool_buffer')], ['state/b2/l2/pool_frame_count', TensorSpec(shape=(1,), dtype=tf.int32, name='state/b2/l2/pool_frame_count')], ['state/b3/l5/pool_frame_count', TensorSpec(shape=(1,), dtype=tf.int32, name='state/b3/l5/pool_frame_count')], ['state/b4/l2/pool_frame_count', TensorSpec(shape=(1,), dtype=tf.int32, name='state/b4/l2/pool_frame_count')], ['state/b0/l0/pool_frame_count', TensorSpec(shape=(1,), dtype=tf.int32, name='state/b0/l0/pool_frame_count')], ['state/b3/l3/stream_buffer', TensorSpec(shape=(None, 2, None, None, 240), dtype=tf.float32, name='state/b3/l3/stream_buffer')]].\n",
            "Captures:.\n",
            "  None.\n",
            "      ...\n"
          ]
        }
      ],
      "source": [
        "lines = model.signatures['init_states'].pretty_printed_signature().splitlines()\n",
        "lines = lines[:10]\n",
        "lines.append('      ...')\n",
        "print('.\\n'.join(lines))"
      ]
    },
    {
      "cell_type": "code",
      "execution_count": 19,
      "metadata": {
        "id": "v5lG3vejn5df"
      },
      "outputs": [],
      "source": [
        "initial_state = model.init_states(jumpingjack[tf.newaxis, ...].shape)"
      ]
    },
    {
      "cell_type": "code",
      "execution_count": 20,
      "metadata": {
        "id": "J3DwmyHnuhH_"
      },
      "outputs": [
        {
          "data": {
            "text/plain": [
              "dict"
            ]
          },
          "execution_count": 20,
          "metadata": {},
          "output_type": "execute_result"
        }
      ],
      "source": [
        "type(initial_state)"
      ]
    },
    {
      "cell_type": "code",
      "execution_count": 21,
      "metadata": {
        "id": "K8SyiEU6tB-e"
      },
      "outputs": [
        {
          "data": {
            "text/plain": [
              "['state/b0/l0/pool_buffer',\n",
              " 'state/b0/l0/pool_frame_count',\n",
              " 'state/b0/l1/pool_buffer',\n",
              " 'state/b0/l1/pool_frame_count',\n",
              " 'state/b0/l1/stream_buffer']"
            ]
          },
          "execution_count": 21,
          "metadata": {},
          "output_type": "execute_result"
        }
      ],
      "source": [
        "list(sorted(initial_state.keys()))[:5]"
      ]
    },
    {
      "cell_type": "markdown",
      "metadata": {
        "id": "xeMCzJMBvwRF"
      },
      "source": [
        "Once you have the initial state for the RNNs, you can pass the state and a video frame as input (keeping the `(batch, frames, height, width, colors)` shape for the video frame). The model returns a `(logits, state)` pair.\n",
        "\n",
        "After just seeing the first frame, the model is not convinced that the video is of \"jumping jacks\":"
      ]
    },
    {
      "cell_type": "code",
      "execution_count": 22,
      "metadata": {
        "id": "McSLdIgtsI3d"
      },
      "outputs": [],
      "source": [
        "inputs = initial_state.copy()\n",
        "\n",
        "# Add the batch axis, take the first frme, but keep the frame-axis.\n",
        "inputs['image'] = jumpingjack[tf.newaxis, 0:1, ...]"
      ]
    },
    {
      "cell_type": "code",
      "execution_count": 23,
      "metadata": {
        "id": "WlH7PqLPX664"
      },
      "outputs": [],
      "source": [
        "# warmup\n",
        "model(inputs);"
      ]
    },
    {
      "cell_type": "code",
      "execution_count": 24,
      "metadata": {
        "id": "7uzNXtu7X5sr"
      },
      "outputs": [
        {
          "name": "stdout",
          "output_type": "stream",
          "text": [
            "golf chipping       : 0.427\n",
            "tackling            : 0.134\n",
            "lunge               : 0.056\n",
            "stretching arm      : 0.053\n",
            "passing american football (not in game): 0.039\n",
            "\n"
          ]
        }
      ],
      "source": [
        "logits, new_state = model(inputs)\n",
        "logits = logits[0]\n",
        "probs = tf.nn.softmax(logits, axis=-1)\n",
        "\n",
        "for label, p in get_top_k(probs):\n",
        "  print(f'{label:20s}: {p:.3f}')\n",
        "\n",
        "print()"
      ]
    },
    {
      "cell_type": "markdown",
      "metadata": {
        "id": "oLU644FQwXSb"
      },
      "source": [
        "If you run the model in a loop, passing the updated state with each frame, the model quickly converges to the correct result:"
      ]
    },
    {
      "cell_type": "code",
      "execution_count": 25,
      "metadata": {
        "id": "Fzm7T4ImmIEg"
      },
      "outputs": [
        {
          "name": "stdout",
          "output_type": "stream",
          "text": [
            "CPU times: user 998 ms, sys: 154 ms, total: 1.15 s\n",
            "Wall time: 414 ms\n"
          ]
        }
      ],
      "source": [
        "%%time\n",
        "state = initial_state.copy()\n",
        "all_logits = []\n",
        "\n",
        "for n in range(len(jumpingjack)):\n",
        "  inputs = state\n",
        "  inputs['image'] = jumpingjack[tf.newaxis, n:n+1, ...]\n",
        "  result, state = model(inputs)\n",
        "  all_logits.append(logits)\n",
        "\n",
        "probabilities = tf.nn.softmax(all_logits, axis=-1)"
      ]
    },
    {
      "cell_type": "code",
      "execution_count": 26,
      "metadata": {
        "id": "B7UtHoSWcOT2"
      },
      "outputs": [
        {
          "name": "stdout",
          "output_type": "stream",
          "text": [
            "golf chipping       : 0.427\n",
            "tackling            : 0.134\n",
            "lunge               : 0.056\n",
            "stretching arm      : 0.053\n",
            "passing american football (not in game): 0.039\n"
          ]
        }
      ],
      "source": [
        "for label, p in get_top_k(probabilities[-1]):\n",
        "  print(f'{label:20s}: {p:.3f}')"
      ]
    },
    {
      "cell_type": "code",
      "execution_count": 27,
      "metadata": {
        "id": "6ffV3NhZcsrv"
      },
      "outputs": [
        {
          "data": {
            "image/png": "[encoded data removed]",
            "text/plain": [
              "<Figure size 640x480 with 1 Axes>"
            ]
          },
          "metadata": {},
          "output_type": "display_data"
        }
      ],
      "source": [
        "id = tf.argmax(probabilities[-1])\n",
        "plt.plot(probabilities[:, id])\n",
        "plt.xlabel('Frame #')\n",
        "plt.ylabel(f\"p('{KINETICS_600_LABELS[id]}')\");"
      ]
    },
    {
      "cell_type": "markdown",
      "metadata": {
        "id": "d7MZ_AfRW845"
      },
      "source": [
        "You may notice that the final probability is much more certain than in the previous section where you ran the `base` model. The `base` model returns an average of the predictions over the frames."
      ]
    },
    {
      "cell_type": "code",
      "execution_count": 28,
      "metadata": {
        "id": "0Wij4tsyW8dR"
      },
      "outputs": [
        {
          "name": "stdout",
          "output_type": "stream",
          "text": [
            "golf chipping       : 0.427\n",
            "tackling            : 0.134\n",
            "lunge               : 0.056\n",
            "stretching arm      : 0.053\n",
            "passing american football (not in game): 0.039\n"
          ]
        }
      ],
      "source": [
        "for label, p in get_top_k(tf.reduce_mean(probabilities, axis=0)):\n",
        "  print(f'{label:20s}: {p:.3f}')"
      ]
    },
    {
      "cell_type": "markdown",
      "metadata": {
        "id": "qLUoC9ejggGo"
      },
      "source": [
        "## Animate the predictions over time\n",
        "\n",
        "The previous section went into some details about how to use these models. This section builds on top of that to produce some nice inference animations."
      ]
    },
    {
      "cell_type": "markdown",
      "metadata": {
        "id": "OnFqOXazoWgy"
      },
      "source": [
        "The hidden cell below to defines helper functions used in this section."
      ]
    },
    {
      "cell_type": "code",
      "execution_count": 29,
      "metadata": {
        "cellView": "form",
        "id": "dx55NK3ZoZeh"
      },
      "outputs": [],
      "source": [
        "#@title\n",
        "# Get top_k labels and probabilities predicted using MoViNets streaming model\n",
        "def get_top_k_streaming_labels(probs, k=5, label_map=KINETICS_600_LABELS):\n",
        "  \"\"\"Returns the top-k labels over an entire video sequence.\n",
        "\n",
        "  Args:\n",
        "    probs: probability tensor of shape (num_frames, num_classes) that represents\n",
        "      the probability of each class on each frame.\n",
        "    k: the number of top predictions to select.\n",
        "    label_map: a list of labels to map logit indices to label strings.\n",
        "\n",
        "  Returns:\n",
        "    a tuple of the top-k probabilities, labels, and logit indices\n",
        "  \"\"\"\n",
        "  top_categories_last = tf.argsort(probs, -1, 'DESCENDING')[-1, :1]\n",
        "  # Sort predictions to find top_k\n",
        "  categories = tf.argsort(probs, -1, 'DESCENDING')[:, :k]\n",
        "  categories = tf.reshape(categories, [-1])\n",
        "\n",
        "  counts = sorted([\n",
        "      (i.numpy(), tf.reduce_sum(tf.cast(categories == i, tf.int32)).numpy())\n",
        "      for i in tf.unique(categories)[0]\n",
        "  ], key=lambda x: x[1], reverse=True)\n",
        "\n",
        "  top_probs_idx = tf.constant([i for i, _ in counts[:k]])\n",
        "  top_probs_idx = tf.concat([top_categories_last, top_probs_idx], 0)\n",
        "  # find unique indices of categories\n",
        "  top_probs_idx = tf.unique(top_probs_idx)[0][:k+1]\n",
        "  # top_k probabilities of the predictions\n",
        "  top_probs = tf.gather(probs, top_probs_idx, axis=-1)\n",
        "  top_probs = tf.transpose(top_probs, perm=(1, 0))\n",
        "  # collect the labels of top_k predictions\n",
        "  top_labels = tf.gather(label_map, top_probs_idx, axis=0)\n",
        "  # decode the top_k labels\n",
        "  top_labels = [label.decode('utf8') for label in top_labels.numpy()]\n",
        "\n",
        "  return top_probs, top_labels, top_probs_idx\n",
        "\n",
        "# Plot top_k predictions at a given time step\n",
        "def plot_streaming_top_preds_at_step(\n",
        "    top_probs,\n",
        "    top_labels,\n",
        "    step=None,\n",
        "    image=None,\n",
        "    legend_loc='lower left',\n",
        "    duration_seconds=10,\n",
        "    figure_height=500,\n",
        "    playhead_scale=0.8,\n",
        "    grid_alpha=0.3):\n",
        "  \"\"\"Generates a plot of the top video model predictions at a given time step.\n",
        "\n",
        "  Args:\n",
        "    top_probs: a tensor of shape (k, num_frames) representing the top-k\n",
        "      probabilities over all frames.\n",
        "    top_labels: a list of length k that represents the top-k label strings.\n",
        "    step: the current time step in the range [0, num_frames].\n",
        "    image: the image frame to display at the current time step.\n",
        "    legend_loc: the placement location of the legend.\n",
        "    duration_seconds: the total duration of the video.\n",
        "    figure_height: the output figure height.\n",
        "    playhead_scale: scale value for the playhead.\n",
        "    grid_alpha: alpha value for the gridlines.\n",
        "\n",
        "  Returns:\n",
        "    A tuple of the output numpy image, figure, and axes.\n",
        "  \"\"\"\n",
        "  # find number of top_k labels and frames in the video\n",
        "  num_labels, num_frames = top_probs.shape\n",
        "  if step is None:\n",
        "    step = num_frames\n",
        "  # Visualize frames and top_k probabilities of streaming video\n",
        "  fig = plt.figure(figsize=(6.5, 7), dpi=300)\n",
        "  gs = mpl.gridspec.GridSpec(8, 1)\n",
        "  ax2 = plt.subplot(gs[:-3, :])\n",
        "  ax = plt.subplot(gs[-3:, :])\n",
        "  # display the frame\n",
        "  if image is not None:\n",
        "    ax2.imshow(image, interpolation='nearest')\n",
        "    ax2.axis('off')\n",
        "  # x-axis (frame number)\n",
        "  preview_line_x = tf.linspace(0., duration_seconds, num_frames)\n",
        "  # y-axis (top_k probabilities)\n",
        "  preview_line_y = top_probs\n",
        "\n",
        "  line_x = preview_line_x[:step+1]\n",
        "  line_y = preview_line_y[:, :step+1]\n",
        "\n",
        "  for i in range(num_labels):\n",
        "    ax.plot(preview_line_x, preview_line_y[i], label=None, linewidth='1.5',\n",
        "            linestyle=':', color='gray')\n",
        "    ax.plot(line_x, line_y[i], label=top_labels[i], linewidth='2.0')\n",
        "\n",
        "\n",
        "  ax.grid(which='major', linestyle=':', linewidth='1.0', alpha=grid_alpha)\n",
        "  ax.grid(which='minor', linestyle=':', linewidth='0.5', alpha=grid_alpha)\n",
        "\n",
        "  min_height = tf.reduce_min(top_probs) * playhead_scale\n",
        "  max_height = tf.reduce_max(top_probs)\n",
        "  ax.vlines(preview_line_x[step], min_height, max_height, colors='red')\n",
        "  ax.scatter(preview_line_x[step], max_height, color='red')\n",
        "\n",
        "  ax.legend(loc=legend_loc)\n",
        "\n",
        "  plt.xlim(0, duration_seconds)\n",
        "  plt.ylabel('Probability')\n",
        "  plt.xlabel('Time (s)')\n",
        "  plt.yscale('log')\n",
        "\n",
        "  fig.tight_layout()\n",
        "  fig.canvas.draw()\n",
        "\n",
        "  data = np.frombuffer(fig.canvas.tostring_rgb(), dtype=np.uint8)\n",
        "  data = data.reshape(fig.canvas.get_width_height()[::-1] + (3,))\n",
        "  plt.close()\n",
        "\n",
        "  figure_width = int(figure_height * data.shape[1] / data.shape[0])\n",
        "  image = PIL.Image.fromarray(data).resize([figure_width, figure_height])\n",
        "  image = np.array(image)\n",
        "\n",
        "  return image\n",
        "\n",
        "# Plotting top_k predictions from MoViNets streaming model\n",
        "def plot_streaming_top_preds(\n",
        "    probs,\n",
        "    video,\n",
        "    top_k=5,\n",
        "    video_fps=25.,\n",
        "    figure_height=500,\n",
        "    use_progbar=True):\n",
        "  \"\"\"Generates a video plot of the top video model predictions.\n",
        "\n",
        "  Args:\n",
        "    probs: probability tensor of shape (num_frames, num_classes) that represents\n",
        "      the probability of each class on each frame.\n",
        "    video: the video to display in the plot.\n",
        "    top_k: the number of top predictions to select.\n",
        "    video_fps: the input video fps.\n",
        "    figure_fps: the output video fps.\n",
        "    figure_height: the height of the output video.\n",
        "    use_progbar: display a progress bar.\n",
        "\n",
        "  Returns:\n",
        "    A numpy array representing the output video.\n",
        "  \"\"\"\n",
        "  # select number of frames per second\n",
        "  video_fps = 8.\n",
        "  # select height of the image\n",
        "  figure_height = 500\n",
        "  # number of time steps of the given video\n",
        "  steps = video.shape[0]\n",
        "  # estimate duration of the video (in seconds)\n",
        "  duration = steps / video_fps\n",
        "  # estimate top_k probabilities and corresponding labels\n",
        "  top_probs, top_labels, _ = get_top_k_streaming_labels(probs, k=top_k)\n",
        "\n",
        "  images = []\n",
        "  step_generator = tqdm.trange(steps) if use_progbar else range(steps)\n",
        "  for i in step_generator:\n",
        "    image = plot_streaming_top_preds_at_step(\n",
        "        top_probs=top_probs,\n",
        "        top_labels=top_labels,\n",
        "        step=i,\n",
        "        image=video[i],\n",
        "        duration_seconds=duration,\n",
        "        figure_height=figure_height,\n",
        "    )\n",
        "    images.append(image)\n",
        "\n",
        "  return np.array(images)"
      ]
    },
    {
      "cell_type": "markdown",
      "metadata": {
        "id": "eLgFBslcZOQO"
      },
      "source": [
        "Start by running the streaming model across the frames of the video, and collecting the logits:"
      ]
    },
    {
      "cell_type": "code",
      "execution_count": 30,
      "metadata": {
        "id": "tXWR13wthnK5"
      },
      "outputs": [],
      "source": [
        "init_states = model.init_states(jumpingjack[tf.newaxis].shape)"
      ]
    },
    {
      "cell_type": "code",
      "execution_count": 31,
      "metadata": {
        "id": "YqSkt7l8ltwt"
      },
      "outputs": [
        {
          "name": "stderr",
          "output_type": "stream",
          "text": [
            "100%|██████████| 13/13 [00:00<00:00, 33.91it/s]\n"
          ]
        }
      ],
      "source": [
        "# Insert your video clip here\n",
        "video = jumpingjack\n",
        "images = tf.split(video[tf.newaxis], video.shape[0], axis=1)\n",
        "\n",
        "all_logits = []\n",
        "\n",
        "# To run on a video, pass in one frame at a time\n",
        "states = init_states\n",
        "for image in tqdm.tqdm(images):\n",
        "  # predictions for each frame\n",
        "  logits, states = model({**states, 'image': image})\n",
        "  all_logits.append(logits)\n",
        "\n",
        "# concatenating all the logits\n",
        "logits = tf.concat(all_logits, 0)\n",
        "# estimating probabilities\n",
        "probs = tf.nn.softmax(logits, axis=-1)"
      ]
    },
    {
      "cell_type": "code",
      "execution_count": 32,
      "metadata": {
        "id": "OOGcCMMJyuPl"
      },
      "outputs": [
        {
          "name": "stdout",
          "output_type": "stream",
          "text": [
            "Top_k predictions and their probablities\n",
            "\n",
            "jumping jacks       : 0.999\n",
            "zumba               : 0.000\n",
            "doing aerobics      : 0.000\n",
            "dancing charleston  : 0.000\n",
            "slacklining         : 0.000\n"
          ]
        }
      ],
      "source": [
        "final_probs = probs[-1]\n",
        "print('Top_k predictions and their probablities\\n')\n",
        "for label, p in get_top_k(final_probs):\n",
        "  print(f'{label:20s}: {p:.3f}')"
      ]
    },
    {
      "cell_type": "markdown",
      "metadata": {
        "id": "GaybT0rbZct-"
      },
      "source": [
        "Convert the sequence of probabilities into a video:"
      ]
    },
    {
      "cell_type": "code",
      "execution_count": 33,
      "metadata": {
        "id": "Xdox556CtMRb"
      },
      "outputs": [
        {
          "name": "stderr",
          "output_type": "stream",
          "text": [
            "  0%|          | 0/13 [00:00<?, ?it/s]/tmp/ipykernel_45824/567636217.py:112: MatplotlibDeprecationWarning: The tostring_rgb function was deprecated in Matplotlib 3.8 and will be removed in 3.10. Use buffer_rgba instead.\n",
            "  data = np.frombuffer(fig.canvas.tostring_rgb(), dtype=np.uint8)\n",
            "100%|██████████| 13/13 [00:03<00:00,  4.04it/s]\n"
          ]
        }
      ],
      "source": [
        "# Generate a plot and output to a video tensor\n",
        "plot_video = plot_streaming_top_preds(probs, video, video_fps=8.)"
      ]
    },
    {
      "cell_type": "code",
      "execution_count": 34,
      "metadata": {
        "id": "NSStKE9klCs3"
      },
      "outputs": [
        {
          "data": {
            "text/html": [
              "<table class=\"show_videos\" style=\"border-spacing:0px;\"><tr><td style=\"padding:1px;\"><video controls width=\"464\" height=\"500\" style=\"object-fit:cover;\" loop autoplay muted>\n",
              "      <source src=\"data:video/mp4;base64,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\" type=\"video/mp4\"/>\n",
              "      This browser does not support the video tag.\n",
              "      </video></td></tr></table>"
            ],
            "text/plain": [
              "<IPython.core.display.HTML object>"
            ]
          },
          "metadata": {},
          "output_type": "display_data"
        }
      ],
      "source": [
        "# For gif format, set codec='gif'\n",
        "media.show_video(plot_video, fps=3)"
      ]
    },
    {
      "cell_type": "markdown",
      "metadata": {
        "id": "LCImgZ3OdJw7"
      },
      "source": [
        "## Resources\n",
        "\n",
        "The pretrained models are available from [TF Hub](https://tfhub.dev/google/collections/movinet/1). The TF Hub collection also includes quantized models optimized for [TFLite](https://tensorflow.org/lite).\n",
        "\n",
        "The source for these models is available in the [TensorFlow Model Garden](https://github.com/tensorflow/models/tree/master/official/projects/movinet). This includes a [longer version of this tutorial](https://colab.sandbox.google.com/github/tensorflow/models/blob/master/official/projects/movinet/movinet_tutorial.ipynb) that also covers building and fine-tuning a MoViNet model."
      ]
    },
    {
      "cell_type": "markdown",
      "metadata": {
        "id": "gh5lLAo-HpVF"
      },
      "source": [
        "## Next Steps\n",
        "\n",
        "To learn more about working with video data in TensorFlow, check out the following tutorials:\n",
        "\n",
        "* [Load video data](https://www.tensorflow.org/tutorials/load_data/video)\n",
        "* [Build a 3D CNN model for video classification](https://www.tensorflow.org/tutorials/video/video_classification)\n",
        "* [Transfer learning for video classification with MoViNet](https://www.tensorflow.org/tutorials/video/transfer_learning_with_movinet)"
      ]
    },
    {
      "cell_type": "code",
      "execution_count": null,
      "metadata": {},
      "outputs": [],
      "source": []
    },
    {
      "cell_type": "code",
      "execution_count": null,
      "metadata": {},
      "outputs": [],
      "source": []
    },
    {
      "cell_type": "code",
      "execution_count": null,
      "metadata": {},
      "outputs": [],
      "source": []
    },
    {
      "cell_type": "markdown",
      "metadata": {},
      "source": [
        "Milestone Definition\n",
        "Stakeholder Alignment\n",
        "Define Objectives\n",
        "Data Integrity and Validation Testing\n",
        "Error Handling\n",
        "Validation Testing\n",
        "Data Integrity Checks\n",
        "Functional Testing\n",
        "User Acceptance Testing (UAT)\n",
        "End-to-End Testing\n",
        "Component Testing\n",
        "Integration Testing\n",
        "Security Testing\n",
        "API Integration\n",
        "System Integration\n",
        "API Development\n",
        "API Testing\n",
        "API Documentation\n",
        "FastAPI Creation\n",
        "Report Generation\n",
        "Report Automation\n",
        "Monthly Summarized Reports\n",
        "Daily Email Reports\n",
        "Data Management\n",
        "Data Access Control\n",
        "Data Retention Policy\n",
        "Data Storage Management\n",
        "Load Management\n",
        "Scalability Planning\n",
        "Load Optimization\n",
        "Server Load Assessment\n",
        "Project Documentation\n"
      ]
    }
  ],
  "metadata": {
    "accelerator": "GPU",
    "colab": {
      "gpuType": "T4",
      "provenance": []
    },
    "kernelspec": {
      "display_name": "Python 3",
      "name": "python3"
    },
    "language_info": {
      "codemirror_mode": {
        "name": "ipython",
        "version": 3
      },
      "file_extension": ".py",
      "mimetype": "text/x-python",
      "name": "python",
      "nbconvert_exporter": "python",
      "pygments_lexer": "ipython3",
      "version": "3.10.12"
    }
  },
  "nbformat": 4,
  "nbformat_minor": 0
}
